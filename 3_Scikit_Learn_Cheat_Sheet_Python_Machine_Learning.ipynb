{
  "nbformat": 4,
  "nbformat_minor": 0,
  "metadata": {
    "colab": {
      "name": "3. Scikit-Learn Cheat Sheet Python Machine Learning.ipynb",
      "provenance": [],
      "collapsed_sections": [],
      "include_colab_link": true
    },
    "kernelspec": {
      "name": "python3",
      "display_name": "Python 3"
    }
  },
  "cells": [
    {
      "cell_type": "markdown",
      "metadata": {
        "id": "view-in-github",
        "colab_type": "text"
      },
      "source": [
        "<a href=\"https://colab.research.google.com/github/jessicamadridmejia/Cheat-Sheets/blob/master/3_Scikit_Learn_Cheat_Sheet_Python_Machine_Learning.ipynb\" target=\"_parent\"><img src=\"https://colab.research.google.com/assets/colab-badge.svg\" alt=\"Open In Colab\"/></a>"
      ]
    },
    {
      "cell_type": "markdown",
      "metadata": {
        "id": "f_VdFW9lAnZg",
        "colab_type": "text"
      },
      "source": [
        "# Scikit-learn\n",
        "Scikit-learn is an open source Python library that implements a range of machine learning, preprocessing, cross-validation and visualization algorithms using a unified interface.\n",
        "\n"
      ]
    },
    {
      "cell_type": "markdown",
      "metadata": {
        "id": "7ouYW-OL1jGs",
        "colab_type": "text"
      },
      "source": [
        "## A Basic Example"
      ]
    },
    {
      "cell_type": "code",
      "metadata": {
        "id": "WWG2CGBwwXm1",
        "colab_type": "code",
        "outputId": "9f09e3be-9948-45e3-86c5-e5289c9e0630",
        "colab": {
          "base_uri": "https://localhost:8080/",
          "height": 0
        }
      },
      "source": [
        "from sklearn import neighbors, datasets, preprocessing\n",
        "from sklearn.model_selection import train_test_split\n",
        "from sklearn.metrics import accuracy_score\n",
        "\n",
        "iris = datasets.load_iris()\n",
        "X, y = iris.data[:,:2], iris.target\n",
        "\n",
        "X_train, X_test, y_train, y_test = train_test_split(X,y,random_state=33)\n",
        "\n",
        "scaler = preprocessing.StandardScaler().fit(X_train)\n",
        "X_train = scaler.transform(X_train)\n",
        "X_test = scaler.transform(X_test)\n",
        "\n",
        "knn = neighbors.KNeighborsClassifier(n_neighbors=5)\n",
        "knn.fit(X_train,y_train)\n",
        "\n",
        "y_pred = knn.predict(X_test)\n",
        "accuracy_score(y_pred, y_test)"
      ],
      "execution_count": 59,
      "outputs": [
        {
          "output_type": "execute_result",
          "data": {
            "text/plain": [
              "0.631578947368421"
            ]
          },
          "metadata": {
            "tags": []
          },
          "execution_count": 59
        }
      ]
    },
    {
      "cell_type": "markdown",
      "metadata": {
        "id": "gDiJkFtXzYTW",
        "colab_type": "text"
      },
      "source": [
        "## Loading The Data\n",
        "\n",
        "Your data needs to be numeric and stored as NumPy arrays or SciPy sparse\n",
        "matrices. Other types that are convertible to numeric arrays, such as Pandas\n",
        "DataFrame, are also acceptable."
      ]
    },
    {
      "cell_type": "code",
      "metadata": {
        "id": "JGULSx7pzgaD",
        "colab_type": "code",
        "outputId": "d48a8927-876f-4f06-cf93-0d8df8c4e718",
        "colab": {
          "base_uri": "https://localhost:8080/",
          "height": 0
        }
      },
      "source": [
        "import numpy as np\n",
        "\n",
        "X = np.random.random((10,5))\n",
        "y = np.array(['M','M','F','F','M','F','M','M','F','F'])\n",
        "\n",
        "X[X < 0.7] = 0\n",
        "\n",
        "X"
      ],
      "execution_count": 60,
      "outputs": [
        {
          "output_type": "execute_result",
          "data": {
            "text/plain": [
              "array([[0.7584019 , 0.        , 0.99476562, 0.        , 0.78921816],\n",
              "       [0.        , 0.        , 0.97151424, 0.        , 0.97978104],\n",
              "       [0.95560261, 0.        , 0.        , 0.        , 0.8434506 ],\n",
              "       [0.84470202, 0.        , 0.        , 0.        , 0.        ],\n",
              "       [0.78558866, 0.        , 0.        , 0.        , 0.        ],\n",
              "       [0.        , 0.        , 0.        , 0.        , 0.        ],\n",
              "       [0.902645  , 0.        , 0.        , 0.        , 0.        ],\n",
              "       [0.        , 0.        , 0.        , 0.94857593, 0.        ],\n",
              "       [0.        , 0.        , 0.94810829, 0.        , 0.        ],\n",
              "       [0.        , 0.        , 0.79047242, 0.        , 0.        ]])"
            ]
          },
          "metadata": {
            "tags": []
          },
          "execution_count": 60
        }
      ]
    },
    {
      "cell_type": "markdown",
      "metadata": {
        "id": "nk-y1nI30Upk",
        "colab_type": "text"
      },
      "source": [
        "## Training And Test Data"
      ]
    },
    {
      "cell_type": "code",
      "metadata": {
        "id": "RBw_P82y0WMj",
        "colab_type": "code",
        "colab": {}
      },
      "source": [
        "from sklearn.model_selection import  train_test_split\n",
        "\n",
        "X_train, X_test, y_train, y_test = train_test_split(X, y, random_state=0)"
      ],
      "execution_count": 0,
      "outputs": []
    },
    {
      "cell_type": "markdown",
      "metadata": {
        "id": "N8-zQ6xQ1A1k",
        "colab_type": "text"
      },
      "source": [
        "## Preprocessing The Data\n",
        "\n"
      ]
    },
    {
      "cell_type": "markdown",
      "metadata": {
        "id": "Ir9K9c8A1n7z",
        "colab_type": "text"
      },
      "source": [
        "### Standarization"
      ]
    },
    {
      "cell_type": "code",
      "metadata": {
        "id": "GlLYFlul2DTy",
        "colab_type": "code",
        "colab": {}
      },
      "source": [
        "from sklearn.preprocessing import StandardScaler\n",
        "\n",
        "scaler =  StandardScaler().fit(X_train)\n",
        "\n",
        "standardize_X = scaler.transform(X_train)\n",
        "standardize_X_test = scaler.transform(X_test)"
      ],
      "execution_count": 0,
      "outputs": []
    },
    {
      "cell_type": "markdown",
      "metadata": {
        "id": "eideeDgI1K_K",
        "colab_type": "text"
      },
      "source": [
        "### Normalization"
      ]
    },
    {
      "cell_type": "code",
      "metadata": {
        "id": "2F9d4bkG2lBs",
        "colab_type": "code",
        "colab": {}
      },
      "source": [
        "from sklearn.preprocessing import Normalizer\n",
        "\n",
        "normalizer = Normalizer().fit(X_train)\n",
        "normalized_X = normalizer.transform(X_train)\n",
        "normalized_X_test = normalizer.transform(X_test)"
      ],
      "execution_count": 0,
      "outputs": []
    },
    {
      "cell_type": "markdown",
      "metadata": {
        "id": "jkPQseFD1STC",
        "colab_type": "text"
      },
      "source": [
        "### Binarization"
      ]
    },
    {
      "cell_type": "code",
      "metadata": {
        "id": "W0qbrMO4wgJ_",
        "colab_type": "code",
        "colab": {}
      },
      "source": [
        "from sklearn.preprocessing import Binarizer\n",
        "\n",
        "binarizer = Binarizer(threshold=0.0).fit(X)\n",
        "binarizer_X = binarizer.transform(X) "
      ],
      "execution_count": 0,
      "outputs": []
    },
    {
      "cell_type": "markdown",
      "metadata": {
        "id": "-zYwOLUd1Xnj",
        "colab_type": "text"
      },
      "source": [
        "### Encoding Categorical Features"
      ]
    },
    {
      "cell_type": "code",
      "metadata": {
        "id": "qJCuA2jlxW_d",
        "colab_type": "code",
        "colab": {}
      },
      "source": [
        "from sklearn.preprocessing import LabelEncoder\n",
        "\n",
        "enc = LabelEncoder()\n",
        "y = enc.fit_transform(y)"
      ],
      "execution_count": 0,
      "outputs": []
    },
    {
      "cell_type": "markdown",
      "metadata": {
        "id": "Ugyl-K1f1Y2q",
        "colab_type": "text"
      },
      "source": [
        "### Imputing Missing Values"
      ]
    },
    {
      "cell_type": "code",
      "metadata": {
        "id": "TFr0UIVBxacE",
        "colab_type": "code",
        "colab": {
          "base_uri": "https://localhost:8080/",
          "height": 136
        },
        "outputId": "3e74fe46-8398-495c-e366-a2b3d8d1da87"
      },
      "source": [
        "from sklearn.impute import SimpleImputer\n",
        "\n",
        "imp = SimpleImputer(missing_values=0, strategy='mean')\n",
        "imp.fit_transform(X_train)"
      ],
      "execution_count": 66,
      "outputs": [
        {
          "output_type": "execute_result",
          "data": {
            "text/plain": [
              "array([[0.83524964, 0.79047242, 0.94857593, 0.8844996 ],\n",
              "       [0.83524964, 0.97151424, 0.94857593, 0.97978104],\n",
              "       [0.902645  , 0.91891743, 0.94857593, 0.8844996 ],\n",
              "       [0.83524964, 0.91891743, 0.94857593, 0.8844996 ],\n",
              "       [0.84470202, 0.91891743, 0.94857593, 0.8844996 ],\n",
              "       [0.7584019 , 0.99476562, 0.94857593, 0.78921816],\n",
              "       [0.83524964, 0.91891743, 0.94857593, 0.8844996 ]])"
            ]
          },
          "metadata": {
            "tags": []
          },
          "execution_count": 66
        }
      ]
    },
    {
      "cell_type": "markdown",
      "metadata": {
        "id": "rcgxR5uo1brU",
        "colab_type": "text"
      },
      "source": [
        "### Generating Polynomial Features"
      ]
    },
    {
      "cell_type": "code",
      "metadata": {
        "id": "hQbb-s3p2ZQW",
        "colab_type": "code",
        "colab": {
          "base_uri": "https://localhost:8080/",
          "height": 238
        },
        "outputId": "021369be-68b0-4369-9e34-676418d0fa3d"
      },
      "source": [
        "from sklearn.preprocessing import  PolynomialFeatures\n",
        "\n",
        "poly = PolynomialFeatures(5)\n",
        "poly.fit_transform(X)"
      ],
      "execution_count": 67,
      "outputs": [
        {
          "output_type": "execute_result",
          "data": {
            "text/plain": [
              "array([[1.        , 0.7584019 , 0.        , ..., 0.        , 0.        ,\n",
              "        0.30618601],\n",
              "       [1.        , 0.        , 0.        , ..., 0.        , 0.        ,\n",
              "        0.90291143],\n",
              "       [1.        , 0.95560261, 0.        , ..., 0.        , 0.        ,\n",
              "        0.42687258],\n",
              "       ...,\n",
              "       [1.        , 0.        , 0.        , ..., 0.        , 0.        ,\n",
              "        0.        ],\n",
              "       [1.        , 0.        , 0.        , ..., 0.        , 0.        ,\n",
              "        0.        ],\n",
              "       [1.        , 0.        , 0.        , ..., 0.        , 0.        ,\n",
              "        0.        ]])"
            ]
          },
          "metadata": {
            "tags": []
          },
          "execution_count": 67
        }
      ]
    },
    {
      "cell_type": "markdown",
      "metadata": {
        "id": "OA_B1iPU2wR_",
        "colab_type": "text"
      },
      "source": [
        "## Create Your Model"
      ]
    },
    {
      "cell_type": "markdown",
      "metadata": {
        "id": "BI7RP6WC24dF",
        "colab_type": "text"
      },
      "source": [
        "### Supervised Learning Estimators"
      ]
    },
    {
      "cell_type": "markdown",
      "metadata": {
        "id": "16C5vONl2-uw",
        "colab_type": "text"
      },
      "source": [
        "#### Linear Regression"
      ]
    },
    {
      "cell_type": "code",
      "metadata": {
        "id": "uKOc95Dg3B_V",
        "colab_type": "code",
        "colab": {}
      },
      "source": [
        "from sklearn.linear_model import LinearRegression\n",
        "\n",
        "lr = LinearRegression(normalize=True)"
      ],
      "execution_count": 0,
      "outputs": []
    },
    {
      "cell_type": "markdown",
      "metadata": {
        "id": "WG64fBvS3NYm",
        "colab_type": "text"
      },
      "source": [
        "#### Support Vector Machines (SVM)"
      ]
    },
    {
      "cell_type": "code",
      "metadata": {
        "id": "_7HcrzDI3RoV",
        "colab_type": "code",
        "colab": {}
      },
      "source": [
        "from sklearn.svm import  SVC\n",
        "\n",
        "svc = SVC(kernel='linear')"
      ],
      "execution_count": 0,
      "outputs": []
    },
    {
      "cell_type": "markdown",
      "metadata": {
        "id": "bFBXOWDn3dzT",
        "colab_type": "text"
      },
      "source": [
        "#### Naive Bayes"
      ]
    },
    {
      "cell_type": "code",
      "metadata": {
        "id": "eXPrQUMf3hLu",
        "colab_type": "code",
        "colab": {}
      },
      "source": [
        "from sklearn.naive_bayes import GaussianNB\n",
        "gnb = GaussianNB()"
      ],
      "execution_count": 0,
      "outputs": []
    },
    {
      "cell_type": "markdown",
      "metadata": {
        "id": "c_AC6DKA3rIr",
        "colab_type": "text"
      },
      "source": [
        "#### KNN"
      ]
    },
    {
      "cell_type": "code",
      "metadata": {
        "id": "sbzIC7OY3s2Q",
        "colab_type": "code",
        "colab": {}
      },
      "source": [
        "from sklearn import neighbors\n",
        "\n",
        "knn = neighbors.KNeighborsClassifier(n_neighbors=5)"
      ],
      "execution_count": 0,
      "outputs": []
    },
    {
      "cell_type": "markdown",
      "metadata": {
        "id": "TRG30Hh-4Glv",
        "colab_type": "text"
      },
      "source": [
        "### Unsupervised Learning Estimator\n"
      ]
    },
    {
      "cell_type": "markdown",
      "metadata": {
        "id": "O05s1WGo4Qv_",
        "colab_type": "text"
      },
      "source": [
        "#### Principal Component Analysis (PCA)"
      ]
    },
    {
      "cell_type": "code",
      "metadata": {
        "id": "zXYtba6b4QUN",
        "colab_type": "code",
        "colab": {}
      },
      "source": [
        "from sklearn.decomposition import PCA\n",
        "\n",
        "pca = PCA(n_components=0.95)"
      ],
      "execution_count": 0,
      "outputs": []
    },
    {
      "cell_type": "markdown",
      "metadata": {
        "id": "0UXt1w754wVT",
        "colab_type": "text"
      },
      "source": [
        "#### K Means"
      ]
    },
    {
      "cell_type": "code",
      "metadata": {
        "id": "kY4LunXE4yVD",
        "colab_type": "code",
        "colab": {}
      },
      "source": [
        "from sklearn.cluster import  KMeans\n",
        "\n",
        "k_means = KMeans(n_clusters=3, random_state=0)"
      ],
      "execution_count": 0,
      "outputs": []
    },
    {
      "cell_type": "markdown",
      "metadata": {
        "id": "kE8eyrBm5A4o",
        "colab_type": "text"
      },
      "source": [
        "## Model Fitting"
      ]
    },
    {
      "cell_type": "markdown",
      "metadata": {
        "id": "O90x6ZvP5NDM",
        "colab_type": "text"
      },
      "source": [
        "### Supervised learning"
      ]
    },
    {
      "cell_type": "code",
      "metadata": {
        "id": "PgKicoRa5RO3",
        "colab_type": "code",
        "colab": {
          "base_uri": "https://localhost:8080/",
          "height": 85
        },
        "outputId": "653a5b8a-51db-42c5-8593-d5123ea21252"
      },
      "source": [
        "# Fit the model to the data\n",
        "lr.fit(X,y)\n",
        "knn.fit(X_train, y_train)\n",
        "svc.fit(X_train, y_train)"
      ],
      "execution_count": 74,
      "outputs": [
        {
          "output_type": "execute_result",
          "data": {
            "text/plain": [
              "SVC(C=1.0, break_ties=False, cache_size=200, class_weight=None, coef0=0.0,\n",
              "    decision_function_shape='ovr', degree=3, gamma='scale', kernel='linear',\n",
              "    max_iter=-1, probability=False, random_state=None, shrinking=True,\n",
              "    tol=0.001, verbose=False)"
            ]
          },
          "metadata": {
            "tags": []
          },
          "execution_count": 74
        }
      ]
    },
    {
      "cell_type": "markdown",
      "metadata": {
        "id": "9DWLHhdx5neG",
        "colab_type": "text"
      },
      "source": [
        "### Unsupervised Learning"
      ]
    },
    {
      "cell_type": "code",
      "metadata": {
        "id": "d_9idfLz5tgs",
        "colab_type": "code",
        "colab": {}
      },
      "source": [
        "# Fit the model to the data\n",
        "k_means.fit(X_train)\n",
        "\n",
        "# Fit to data, then transform it\n",
        "pca_model = pca.fit_transform(X_train)"
      ],
      "execution_count": 0,
      "outputs": []
    },
    {
      "cell_type": "markdown",
      "metadata": {
        "id": "K0eHeITW6J5q",
        "colab_type": "text"
      },
      "source": [
        "## Prediction"
      ]
    },
    {
      "cell_type": "markdown",
      "metadata": {
        "id": "-tmnZWl_6Nmd",
        "colab_type": "text"
      },
      "source": [
        "### Supervised Estimators"
      ]
    },
    {
      "cell_type": "code",
      "metadata": {
        "id": "DV65bI_O6ZBl",
        "colab_type": "code",
        "colab": {}
      },
      "source": [
        "# Predict labels\n",
        "y_pred = svc.predict(np.random.random((2,5)))\n",
        "\n",
        "# Predict labels\n",
        "y_pred = lr.predict(X_test)\n",
        "\n",
        "# Estimate probability of a label\n",
        "y_pred = knn.predict_proba(X_test)"
      ],
      "execution_count": 0,
      "outputs": []
    },
    {
      "cell_type": "markdown",
      "metadata": {
        "id": "jtFUns6o6EMc",
        "colab_type": "text"
      },
      "source": [
        "### Unsupervised Estimators"
      ]
    },
    {
      "cell_type": "code",
      "metadata": {
        "id": "LVQxJwzN7Foh",
        "colab_type": "code",
        "colab": {}
      },
      "source": [
        "# Predict labels in clustering\n",
        "y_pred = k_means.predict(X_test)"
      ],
      "execution_count": 0,
      "outputs": []
    },
    {
      "cell_type": "markdown",
      "metadata": {
        "id": "VRH5GZCH7do5",
        "colab_type": "text"
      },
      "source": [
        "## Evaluate Your Model's Performance"
      ]
    },
    {
      "cell_type": "markdown",
      "metadata": {
        "id": "H2dxbXA975zU",
        "colab_type": "text"
      },
      "source": [
        "### Classification Metrics"
      ]
    },
    {
      "cell_type": "markdown",
      "metadata": {
        "id": "R_crNGpd8MKA",
        "colab_type": "text"
      },
      "source": [
        "#### Accuracy Score"
      ]
    },
    {
      "cell_type": "code",
      "metadata": {
        "id": "3M4-exzr8brE",
        "colab_type": "code",
        "colab": {
          "base_uri": "https://localhost:8080/",
          "height": 88
        },
        "outputId": "ad3763db-343d-4e56-9841-f926343d3e75"
      },
      "source": [
        "# Estimator score method\n",
        "knn.score(X_test, y_test)\n",
        "\n",
        "# Metric scoring functions\n",
        "from sklearn.metrics import accuracy_score\n",
        "accuracy_score(y_test, y_pred)"
      ],
      "execution_count": 78,
      "outputs": [
        {
          "output_type": "stream",
          "text": [
            "/usr/local/lib/python3.6/dist-packages/sklearn/metrics/_classification.py:191: FutureWarning: elementwise comparison failed; returning scalar instead, but in the future will perform elementwise comparison\n",
            "  score = y_true == y_pred\n"
          ],
          "name": "stderr"
        },
        {
          "output_type": "execute_result",
          "data": {
            "text/plain": [
              "0.0"
            ]
          },
          "metadata": {
            "tags": []
          },
          "execution_count": 78
        }
      ]
    },
    {
      "cell_type": "markdown",
      "metadata": {
        "id": "BVW809wI8Qje",
        "colab_type": "text"
      },
      "source": [
        "#### Classification Report"
      ]
    },
    {
      "cell_type": "code",
      "metadata": {
        "id": "n3VPkvpR9wXD",
        "colab_type": "code",
        "colab": {}
      },
      "source": [
        "# Precision, recall, f1-score and support\n",
        "from sklearn.metrics import classification_report\n",
        "#print(classification_report(y_test, y_pred))"
      ],
      "execution_count": 0,
      "outputs": []
    },
    {
      "cell_type": "markdown",
      "metadata": {
        "id": "72-hZI648Tsl",
        "colab_type": "text"
      },
      "source": [
        "#### Confusion Matrix"
      ]
    },
    {
      "cell_type": "code",
      "metadata": {
        "id": "3SS2OhQc-rHt",
        "colab_type": "code",
        "colab": {}
      },
      "source": [
        "from sklearn.metrics import confusion_matrix\n",
        "#confusion_matrix(y_test, y_pred)"
      ],
      "execution_count": 0,
      "outputs": []
    },
    {
      "cell_type": "markdown",
      "metadata": {
        "id": "refDth8H7_TS",
        "colab_type": "text"
      },
      "source": [
        "### Regression Metrics"
      ]
    },
    {
      "cell_type": "markdown",
      "metadata": {
        "id": "Gipv3BgNAl4e",
        "colab_type": "text"
      },
      "source": [
        "#### Mean Absolute Error"
      ]
    },
    {
      "cell_type": "code",
      "metadata": {
        "id": "eO1rzoIYAr0-",
        "colab_type": "code",
        "colab": {
          "base_uri": "https://localhost:8080/",
          "height": 34
        },
        "outputId": "d495ca3b-d4ce-49c5-aa12-e30ee096769a"
      },
      "source": [
        "from sklearn.metrics import mean_absolute_error\n",
        "\n",
        "y_true = [3,-0.5,2]\n",
        "mean_absolute_error(y_true,y_pred)"
      ],
      "execution_count": 81,
      "outputs": [
        {
          "output_type": "execute_result",
          "data": {
            "text/plain": [
              "2.5"
            ]
          },
          "metadata": {
            "tags": []
          },
          "execution_count": 81
        }
      ]
    },
    {
      "cell_type": "markdown",
      "metadata": {
        "id": "RqUJh7kyBGdL",
        "colab_type": "text"
      },
      "source": [
        "#### Mean Squared Error"
      ]
    },
    {
      "cell_type": "code",
      "metadata": {
        "id": "FNs3xxRgBKwT",
        "colab_type": "code",
        "colab": {}
      },
      "source": [
        "from sklearn.metrics import mean_squared_error\n",
        "\n",
        "#mean_absolute_error(y_test, y_pred)"
      ],
      "execution_count": 0,
      "outputs": []
    },
    {
      "cell_type": "markdown",
      "metadata": {
        "id": "0WWwcvvNBYM2",
        "colab_type": "text"
      },
      "source": [
        "#### R2 Score"
      ]
    },
    {
      "cell_type": "code",
      "metadata": {
        "id": "2r25VS1HBcDw",
        "colab_type": "code",
        "colab": {
          "base_uri": "https://localhost:8080/",
          "height": 34
        },
        "outputId": "2d143e3d-0fc1-4de2-c744-34dbd07f61b8"
      },
      "source": [
        "from sklearn.metrics import  r2_score\n",
        "\n",
        "r2_score(y_true, y_pred)"
      ],
      "execution_count": 83,
      "outputs": [
        {
          "output_type": "execute_result",
          "data": {
            "text/plain": [
              "-1.9615384615384617"
            ]
          },
          "metadata": {
            "tags": []
          },
          "execution_count": 83
        }
      ]
    },
    {
      "cell_type": "markdown",
      "metadata": {
        "id": "PoPRXse48CGE",
        "colab_type": "text"
      },
      "source": [
        "### Clustering Metrics"
      ]
    },
    {
      "cell_type": "markdown",
      "metadata": {
        "id": "blk9eYwXBovy",
        "colab_type": "text"
      },
      "source": [
        "#### Adjusted Rand Index"
      ]
    },
    {
      "cell_type": "code",
      "metadata": {
        "id": "m5pAaW2VA-P2",
        "colab_type": "code",
        "colab": {
          "base_uri": "https://localhost:8080/",
          "height": 34
        },
        "outputId": "3868b7f0-4399-4e0e-e918-0a9ee7f8cf8a"
      },
      "source": [
        "from sklearn.metrics import  adjusted_rand_score\n",
        "adjusted_rand_score(y_true,y_pred)"
      ],
      "execution_count": 84,
      "outputs": [
        {
          "output_type": "execute_result",
          "data": {
            "text/plain": [
              "0.0"
            ]
          },
          "metadata": {
            "tags": []
          },
          "execution_count": 84
        }
      ]
    },
    {
      "cell_type": "markdown",
      "metadata": {
        "id": "-nD93v1bB0-4",
        "colab_type": "text"
      },
      "source": [
        "#### Homogeneity"
      ]
    },
    {
      "cell_type": "code",
      "metadata": {
        "id": "z9CxZpI6B36q",
        "colab_type": "code",
        "colab": {
          "base_uri": "https://localhost:8080/",
          "height": 34
        },
        "outputId": "4ec6d8f4-e0e8-4384-c4c8-9b7812c148c9"
      },
      "source": [
        "from sklearn.metrics import homogeneity_score\n",
        "homogeneity_score(y_true,y_pred)"
      ],
      "execution_count": 85,
      "outputs": [
        {
          "output_type": "execute_result",
          "data": {
            "text/plain": [
              "0.5793801642856952"
            ]
          },
          "metadata": {
            "tags": []
          },
          "execution_count": 85
        }
      ]
    },
    {
      "cell_type": "markdown",
      "metadata": {
        "id": "J2p73y37CAQG",
        "colab_type": "text"
      },
      "source": [
        "#### V-measure"
      ]
    },
    {
      "cell_type": "code",
      "metadata": {
        "id": "3f5Ax1JmCCyi",
        "colab_type": "code",
        "colab": {
          "base_uri": "https://localhost:8080/",
          "height": 34
        },
        "outputId": "214cab7d-d95c-4947-9d7c-10f4183a4a8d"
      },
      "source": [
        "from sklearn.metrics import v_measure_score\n",
        "v_measure_score(y_pred, y_true)"
      ],
      "execution_count": 86,
      "outputs": [
        {
          "output_type": "execute_result",
          "data": {
            "text/plain": [
              "0.7336804366512111"
            ]
          },
          "metadata": {
            "tags": []
          },
          "execution_count": 86
        }
      ]
    },
    {
      "cell_type": "markdown",
      "metadata": {
        "id": "-glj1va18FZH",
        "colab_type": "text"
      },
      "source": [
        "### Cross-Validation"
      ]
    },
    {
      "cell_type": "code",
      "metadata": {
        "id": "MFWRtahnCR8e",
        "colab_type": "code",
        "colab": {
          "base_uri": "https://localhost:8080/",
          "height": 88
        },
        "outputId": "df75e605-74fa-4374-d807-6f0be6ebf257"
      },
      "source": [
        "from sklearn.model_selection import  cross_val_score\n",
        "print(cross_val_score(knn, X_train, y_train, cv=4))"
      ],
      "execution_count": 87,
      "outputs": [
        {
          "output_type": "stream",
          "text": [
            "[0.5 0.5 0.5 0. ]\n"
          ],
          "name": "stdout"
        },
        {
          "output_type": "stream",
          "text": [
            "/usr/local/lib/python3.6/dist-packages/sklearn/model_selection/_split.py:667: UserWarning: The least populated class in y has only 3 members, which is less than n_splits=4.\n",
            "  % (min_groups, self.n_splits)), UserWarning)\n"
          ],
          "name": "stderr"
        }
      ]
    },
    {
      "cell_type": "markdown",
      "metadata": {
        "id": "0WngnfjCC4YN",
        "colab_type": "text"
      },
      "source": [
        "## Tune Your Model"
      ]
    },
    {
      "cell_type": "markdown",
      "metadata": {
        "id": "IeZH2Gf_C7Ux",
        "colab_type": "text"
      },
      "source": [
        "### Grid Search"
      ]
    },
    {
      "cell_type": "code",
      "metadata": {
        "id": "Y0UJIqT4DDRe",
        "colab_type": "code",
        "colab": {
          "base_uri": "https://localhost:8080/",
          "height": 34
        },
        "outputId": "806be51c-5370-403b-f000-873a9237f327"
      },
      "source": [
        "from sklearn.model_selection import GridSearchCV\n",
        "params = {'n_neighbors': np.arange(1,3),\n",
        "          'metric': ['euclidean', 'cityblock']}\n",
        "grid = GridSearchCV(estimator=knn, param_grid=params)\n",
        "\"\"\"\n",
        "grid.fit(X_train, y_train)\n",
        "print(grid.best_score_)\n",
        "print(grid.bes_estimator_.n_neighbors)\n",
        "\"\"\""
      ],
      "execution_count": 88,
      "outputs": [
        {
          "output_type": "execute_result",
          "data": {
            "text/plain": [
              "'\\ngrid.fit(X_train, y_train)\\nprint(grid.best_score_)\\nprint(grid.bes_estimator_.n_neighbors)\\n'"
            ]
          },
          "metadata": {
            "tags": []
          },
          "execution_count": 88
        }
      ]
    },
    {
      "cell_type": "markdown",
      "metadata": {
        "id": "IvNN2sNIC-_e",
        "colab_type": "text"
      },
      "source": [
        "### Randomized Parameter Optimization"
      ]
    },
    {
      "cell_type": "code",
      "metadata": {
        "id": "jmzSbYFdTQvW",
        "colab_type": "code",
        "colab": {}
      },
      "source": [
        "from sklearn.model_selection import RandomizedSearchCV\n",
        "params = {'n_neighbors': range(1,5),\n",
        "          'weights': ['uniform','distance']}\n",
        "\n",
        "rsearch = RandomizedSearchCV(estimator=knn,param_distributions=params, cv=4,n_iter=8, random_state=5)\n",
        "\n",
        "#rsearch.fit(X_train, y_train)\n",
        "#print(rsearch.best_score)"
      ],
      "execution_count": 0,
      "outputs": []
    }
  ]
}