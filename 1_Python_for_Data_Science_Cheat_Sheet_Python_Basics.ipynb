{
  "nbformat": 4,
  "nbformat_minor": 0,
  "metadata": {
    "colab": {
      "name": "1. Python for Data Science Cheat Sheet Python Basics.ipynb",
      "provenance": [],
      "authorship_tag": "ABX9TyMrZj9dfmxsDZPw8RwsE7mM",
      "include_colab_link": true
    },
    "kernelspec": {
      "name": "python3",
      "display_name": "Python 3"
    }
  },
  "cells": [
    {
      "cell_type": "markdown",
      "metadata": {
        "id": "view-in-github",
        "colab_type": "text"
      },
      "source": [
        "<a href=\"https://colab.research.google.com/github/jessicamadridmejia/Cheat-Sheets/blob/master/1_Python_for_Data_Science_Cheat_Sheet_Python_Basics.ipynb\" target=\"_parent\"><img src=\"https://colab.research.google.com/assets/colab-badge.svg\" alt=\"Open In Colab\"/></a>"
      ]
    },
    {
      "cell_type": "markdown",
      "metadata": {
        "id": "HbDtcGmrzHek",
        "colab_type": "text"
      },
      "source": [
        "# Python for Data Science"
      ]
    },
    {
      "cell_type": "markdown",
      "metadata": {
        "id": "9cYZjE8dzJ5j",
        "colab_type": "text"
      },
      "source": [
        "## Variables and Data Types"
      ]
    },
    {
      "cell_type": "markdown",
      "metadata": {
        "id": "1DWbzfuEzpzL",
        "colab_type": "text"
      },
      "source": [
        "### Variable Assignment"
      ]
    },
    {
      "cell_type": "code",
      "metadata": {
        "id": "AszcEWfE0vx8",
        "colab_type": "code",
        "outputId": "aa07d24f-e790-4740-9dcb-92d792729c34",
        "colab": {
          "base_uri": "https://localhost:8080/",
          "height": 34
        }
      },
      "source": [
        "x=5\n",
        "x"
      ],
      "execution_count": 1,
      "outputs": [
        {
          "output_type": "execute_result",
          "data": {
            "text/plain": [
              "5"
            ]
          },
          "metadata": {
            "tags": []
          },
          "execution_count": 1
        }
      ]
    },
    {
      "cell_type": "markdown",
      "metadata": {
        "id": "8XrKD5WdzxVL",
        "colab_type": "text"
      },
      "source": [
        "### Calculations With Variables"
      ]
    },
    {
      "cell_type": "code",
      "metadata": {
        "id": "i7yyhZC1058T",
        "colab_type": "code",
        "outputId": "cfc05dbe-d7b5-4564-d660-e753073f0008",
        "colab": {
          "base_uri": "https://localhost:8080/",
          "height": 34
        }
      },
      "source": [
        "# Sum of two variables\n",
        "x + 2"
      ],
      "execution_count": 2,
      "outputs": [
        {
          "output_type": "execute_result",
          "data": {
            "text/plain": [
              "7"
            ]
          },
          "metadata": {
            "tags": []
          },
          "execution_count": 2
        }
      ]
    },
    {
      "cell_type": "code",
      "metadata": {
        "id": "qmpNQEud0_g9",
        "colab_type": "code",
        "outputId": "6c57cf39-1f66-4dc4-e57b-74419a977479",
        "colab": {
          "base_uri": "https://localhost:8080/",
          "height": 34
        }
      },
      "source": [
        "# Subtraction of two variables\n",
        "x - 2"
      ],
      "execution_count": 3,
      "outputs": [
        {
          "output_type": "execute_result",
          "data": {
            "text/plain": [
              "3"
            ]
          },
          "metadata": {
            "tags": []
          },
          "execution_count": 3
        }
      ]
    },
    {
      "cell_type": "code",
      "metadata": {
        "id": "VNYCseI81HNV",
        "colab_type": "code",
        "outputId": "1f0154f9-cb02-4ae2-9968-5d6ba038d162",
        "colab": {
          "base_uri": "https://localhost:8080/",
          "height": 34
        }
      },
      "source": [
        "# Multiplication of two variables\n",
        "x * 2"
      ],
      "execution_count": 4,
      "outputs": [
        {
          "output_type": "execute_result",
          "data": {
            "text/plain": [
              "10"
            ]
          },
          "metadata": {
            "tags": []
          },
          "execution_count": 4
        }
      ]
    },
    {
      "cell_type": "code",
      "metadata": {
        "id": "WSzHspkL1OiN",
        "colab_type": "code",
        "outputId": "17018c88-b20e-42b7-d500-77159bd13994",
        "colab": {
          "base_uri": "https://localhost:8080/",
          "height": 34
        }
      },
      "source": [
        "# Exponentiation of a variable\n",
        "x ** 2"
      ],
      "execution_count": 5,
      "outputs": [
        {
          "output_type": "execute_result",
          "data": {
            "text/plain": [
              "25"
            ]
          },
          "metadata": {
            "tags": []
          },
          "execution_count": 5
        }
      ]
    },
    {
      "cell_type": "code",
      "metadata": {
        "id": "hsDqVDHW1S6U",
        "colab_type": "code",
        "outputId": "98646b75-dece-4357-aceb-414c32354e30",
        "colab": {
          "base_uri": "https://localhost:8080/",
          "height": 34
        }
      },
      "source": [
        "# Remainder of a variable\n",
        "x % 2"
      ],
      "execution_count": 6,
      "outputs": [
        {
          "output_type": "execute_result",
          "data": {
            "text/plain": [
              "1"
            ]
          },
          "metadata": {
            "tags": []
          },
          "execution_count": 6
        }
      ]
    },
    {
      "cell_type": "code",
      "metadata": {
        "id": "yBp0GdL01Zbz",
        "colab_type": "code",
        "outputId": "ae3b254c-bfe7-464d-eb5d-eef386b489b6",
        "colab": {
          "base_uri": "https://localhost:8080/",
          "height": 34
        }
      },
      "source": [
        "# Division of a variable\n",
        "x / 2"
      ],
      "execution_count": 7,
      "outputs": [
        {
          "output_type": "execute_result",
          "data": {
            "text/plain": [
              "2.5"
            ]
          },
          "metadata": {
            "tags": []
          },
          "execution_count": 7
        }
      ]
    },
    {
      "cell_type": "code",
      "metadata": {
        "id": "Hoku1Cpp1c2b",
        "colab_type": "code",
        "outputId": "da7ed580-b5ce-4a22-bedc-5f37da054dec",
        "colab": {
          "base_uri": "https://localhost:8080/",
          "height": 34
        }
      },
      "source": [
        "# Division of a variable\n",
        "x // 2"
      ],
      "execution_count": 8,
      "outputs": [
        {
          "output_type": "execute_result",
          "data": {
            "text/plain": [
              "2"
            ]
          },
          "metadata": {
            "tags": []
          },
          "execution_count": 8
        }
      ]
    },
    {
      "cell_type": "markdown",
      "metadata": {
        "id": "MfKwC5Akz2D9",
        "colab_type": "text"
      },
      "source": [
        "### Types and Type Conversion"
      ]
    },
    {
      "cell_type": "code",
      "metadata": {
        "id": "2TqaNY8j1jN8",
        "colab_type": "code",
        "outputId": "43922624-f999-40e9-e3e6-944212e0ee35",
        "colab": {
          "base_uri": "https://localhost:8080/",
          "height": 34
        }
      },
      "source": [
        "# Variables to strings\n",
        "str(5)"
      ],
      "execution_count": 9,
      "outputs": [
        {
          "output_type": "execute_result",
          "data": {
            "text/plain": [
              "'5'"
            ]
          },
          "metadata": {
            "tags": []
          },
          "execution_count": 9
        }
      ]
    },
    {
      "cell_type": "code",
      "metadata": {
        "id": "abq3Q5Fv1nUr",
        "colab_type": "code",
        "outputId": "f5d4e8e1-84fe-466f-b897-bde88e1e9df4",
        "colab": {
          "base_uri": "https://localhost:8080/",
          "height": 34
        }
      },
      "source": [
        "# Variables to integers\n",
        "int('10')"
      ],
      "execution_count": 10,
      "outputs": [
        {
          "output_type": "execute_result",
          "data": {
            "text/plain": [
              "10"
            ]
          },
          "metadata": {
            "tags": []
          },
          "execution_count": 10
        }
      ]
    },
    {
      "cell_type": "code",
      "metadata": {
        "id": "ZkRZ_Zj71oNa",
        "colab_type": "code",
        "outputId": "e686e825-a54d-4d1c-fc68-f9898d492466",
        "colab": {
          "base_uri": "https://localhost:8080/",
          "height": 34
        }
      },
      "source": [
        "# Variables to floats\n",
        "float('8')"
      ],
      "execution_count": 11,
      "outputs": [
        {
          "output_type": "execute_result",
          "data": {
            "text/plain": [
              "8.0"
            ]
          },
          "metadata": {
            "tags": []
          },
          "execution_count": 11
        }
      ]
    },
    {
      "cell_type": "code",
      "metadata": {
        "id": "izzd_rAZ1q4C",
        "colab_type": "code",
        "outputId": "065297e0-577d-4523-d9b5-3068fa154679",
        "colab": {
          "base_uri": "https://localhost:8080/",
          "height": 34
        }
      },
      "source": [
        "# Variables to booleans\n",
        "bool('')"
      ],
      "execution_count": 12,
      "outputs": [
        {
          "output_type": "execute_result",
          "data": {
            "text/plain": [
              "False"
            ]
          },
          "metadata": {
            "tags": []
          },
          "execution_count": 12
        }
      ]
    },
    {
      "cell_type": "code",
      "metadata": {
        "id": "FIm_Nnjy1-vg",
        "colab_type": "code",
        "outputId": "1f8af99b-4565-4fd2-e3f6-66f567195a7b",
        "colab": {
          "base_uri": "https://localhost:8080/",
          "height": 34
        }
      },
      "source": [
        "# Variables to booleans\n",
        "bool('g')"
      ],
      "execution_count": 13,
      "outputs": [
        {
          "output_type": "execute_result",
          "data": {
            "text/plain": [
              "True"
            ]
          },
          "metadata": {
            "tags": []
          },
          "execution_count": 13
        }
      ]
    },
    {
      "cell_type": "markdown",
      "metadata": {
        "id": "xwJw_zi7zTQT",
        "colab_type": "text"
      },
      "source": [
        "## Asking For Help"
      ]
    },
    {
      "cell_type": "code",
      "metadata": {
        "id": "xuL8pAIS2Bz4",
        "colab_type": "code",
        "colab": {}
      },
      "source": [
        "# help(str)"
      ],
      "execution_count": 0,
      "outputs": []
    },
    {
      "cell_type": "markdown",
      "metadata": {
        "id": "xq6pmOZQzY-7",
        "colab_type": "text"
      },
      "source": [
        "## Strings"
      ]
    },
    {
      "cell_type": "code",
      "metadata": {
        "id": "m_HGYGGa2JPO",
        "colab_type": "code",
        "outputId": "c1b5ab7f-dcd2-4813-d892-b398d2ca963e",
        "colab": {
          "base_uri": "https://localhost:8080/",
          "height": 34
        }
      },
      "source": [
        "my_string = 'thisStringIsAwesome'\n",
        "my_string"
      ],
      "execution_count": 15,
      "outputs": [
        {
          "output_type": "execute_result",
          "data": {
            "text/plain": [
              "'thisStringIsAwesome'"
            ]
          },
          "metadata": {
            "tags": []
          },
          "execution_count": 15
        }
      ]
    },
    {
      "cell_type": "markdown",
      "metadata": {
        "id": "rHfCM6v0z_A8",
        "colab_type": "text"
      },
      "source": [
        "### String Operations"
      ]
    },
    {
      "cell_type": "code",
      "metadata": {
        "id": "X5hZcIEh2Pq_",
        "colab_type": "code",
        "outputId": "357455e0-f473-47ec-8c88-5684bd3f1871",
        "colab": {
          "base_uri": "https://localhost:8080/",
          "height": 0
        }
      },
      "source": [
        "my_string * 2"
      ],
      "execution_count": 16,
      "outputs": [
        {
          "output_type": "execute_result",
          "data": {
            "text/plain": [
              "'thisStringIsAwesomethisStringIsAwesome'"
            ]
          },
          "metadata": {
            "tags": []
          },
          "execution_count": 16
        }
      ]
    },
    {
      "cell_type": "code",
      "metadata": {
        "id": "bsA5-B253XUE",
        "colab_type": "code",
        "outputId": "25036534-2f3a-4aab-f1f0-537f1c5d5ded",
        "colab": {
          "base_uri": "https://localhost:8080/",
          "height": 0
        }
      },
      "source": [
        "my_string + 'Innit'"
      ],
      "execution_count": 17,
      "outputs": [
        {
          "output_type": "execute_result",
          "data": {
            "text/plain": [
              "'thisStringIsAwesomeInnit'"
            ]
          },
          "metadata": {
            "tags": []
          },
          "execution_count": 17
        }
      ]
    },
    {
      "cell_type": "code",
      "metadata": {
        "id": "fB6yOQP_3aJI",
        "colab_type": "code",
        "outputId": "ad8cb074-ec25-45e8-a8c7-8f0a287d046d",
        "colab": {
          "base_uri": "https://localhost:8080/",
          "height": 0
        }
      },
      "source": [
        "'m' in my_string"
      ],
      "execution_count": 18,
      "outputs": [
        {
          "output_type": "execute_result",
          "data": {
            "text/plain": [
              "True"
            ]
          },
          "metadata": {
            "tags": []
          },
          "execution_count": 18
        }
      ]
    },
    {
      "cell_type": "code",
      "metadata": {
        "id": "QrgJ7R3g3cQ5",
        "colab_type": "code",
        "outputId": "8cf9db0d-dd14-479c-d71f-024bb391d455",
        "colab": {
          "base_uri": "https://localhost:8080/",
          "height": 0
        }
      },
      "source": [
        "my_string[3]"
      ],
      "execution_count": 19,
      "outputs": [
        {
          "output_type": "execute_result",
          "data": {
            "text/plain": [
              "'s'"
            ]
          },
          "metadata": {
            "tags": []
          },
          "execution_count": 19
        }
      ]
    },
    {
      "cell_type": "code",
      "metadata": {
        "id": "jKMvymlg3gvZ",
        "colab_type": "code",
        "outputId": "ee03cdfc-7c28-4998-a073-a7c08a164fc2",
        "colab": {
          "base_uri": "https://localhost:8080/",
          "height": 0
        }
      },
      "source": [
        "my_string[4:9]"
      ],
      "execution_count": 20,
      "outputs": [
        {
          "output_type": "execute_result",
          "data": {
            "text/plain": [
              "'Strin'"
            ]
          },
          "metadata": {
            "tags": []
          },
          "execution_count": 20
        }
      ]
    },
    {
      "cell_type": "markdown",
      "metadata": {
        "id": "BGLjTw_ez_7W",
        "colab_type": "text"
      },
      "source": [
        "### String Methods"
      ]
    },
    {
      "cell_type": "code",
      "metadata": {
        "id": "JxZJFVHI3kGR",
        "colab_type": "code",
        "outputId": "4b50ed9b-f386-4ef5-f0e4-11182db4b8d7",
        "colab": {
          "base_uri": "https://localhost:8080/",
          "height": 0
        }
      },
      "source": [
        "# String to uppercase\n",
        "my_string.upper()"
      ],
      "execution_count": 21,
      "outputs": [
        {
          "output_type": "execute_result",
          "data": {
            "text/plain": [
              "'THISSTRINGISAWESOME'"
            ]
          },
          "metadata": {
            "tags": []
          },
          "execution_count": 21
        }
      ]
    },
    {
      "cell_type": "code",
      "metadata": {
        "id": "sU9QN4964-7W",
        "colab_type": "code",
        "outputId": "b5f85ec9-ca2e-415d-f606-d9654a14bdf5",
        "colab": {
          "base_uri": "https://localhost:8080/",
          "height": 0
        }
      },
      "source": [
        "# String to lowercase\n",
        "my_string.lower()"
      ],
      "execution_count": 22,
      "outputs": [
        {
          "output_type": "execute_result",
          "data": {
            "text/plain": [
              "'thisstringisawesome'"
            ]
          },
          "metadata": {
            "tags": []
          },
          "execution_count": 22
        }
      ]
    },
    {
      "cell_type": "code",
      "metadata": {
        "id": "zU6VdDpA5LjT",
        "colab_type": "code",
        "outputId": "a12f8898-a897-4e70-a0ba-e1dee6dafe22",
        "colab": {
          "base_uri": "https://localhost:8080/",
          "height": 0
        }
      },
      "source": [
        "# Count String elements\n",
        "my_string.count('w')"
      ],
      "execution_count": 23,
      "outputs": [
        {
          "output_type": "execute_result",
          "data": {
            "text/plain": [
              "1"
            ]
          },
          "metadata": {
            "tags": []
          },
          "execution_count": 23
        }
      ]
    },
    {
      "cell_type": "code",
      "metadata": {
        "id": "fnT9bfpN5Qo7",
        "colab_type": "code",
        "outputId": "896344fb-d2d8-41d2-e03d-81298148405c",
        "colab": {
          "base_uri": "https://localhost:8080/",
          "height": 0
        }
      },
      "source": [
        "# Replace String elements\n",
        "my_string.replace('e', 'i')"
      ],
      "execution_count": 24,
      "outputs": [
        {
          "output_type": "execute_result",
          "data": {
            "text/plain": [
              "'thisStringIsAwisomi'"
            ]
          },
          "metadata": {
            "tags": []
          },
          "execution_count": 24
        }
      ]
    },
    {
      "cell_type": "code",
      "metadata": {
        "id": "5EGFhV-q5a8x",
        "colab_type": "code",
        "outputId": "4c810880-480f-4529-f8db-4c7801265a69",
        "colab": {
          "base_uri": "https://localhost:8080/",
          "height": 0
        }
      },
      "source": [
        "# Strip whitespaces\n",
        "my_string = 'thisStringIsAwesome '\n",
        "my_string.strip()"
      ],
      "execution_count": 25,
      "outputs": [
        {
          "output_type": "execute_result",
          "data": {
            "text/plain": [
              "'thisStringIsAwesome'"
            ]
          },
          "metadata": {
            "tags": []
          },
          "execution_count": 25
        }
      ]
    },
    {
      "cell_type": "markdown",
      "metadata": {
        "id": "6-Co7WDdzcNL",
        "colab_type": "text"
      },
      "source": [
        "## Lists"
      ]
    },
    {
      "cell_type": "code",
      "metadata": {
        "id": "su4JgT1851RM",
        "colab_type": "code",
        "colab": {}
      },
      "source": [
        "a = 'is'\n",
        "b = 'nice'\n",
        "my_list = ['my','list',a, b]\n",
        "my_list2 = [[4,5,6,7], [3,4,5,6]]"
      ],
      "execution_count": 0,
      "outputs": []
    },
    {
      "cell_type": "markdown",
      "metadata": {
        "id": "JgtIOsHi0JIb",
        "colab_type": "text"
      },
      "source": [
        "### Selecting List Elements"
      ]
    },
    {
      "cell_type": "markdown",
      "metadata": {
        "id": "A-yUAYoz6HS6",
        "colab_type": "text"
      },
      "source": [
        "#### Subset"
      ]
    },
    {
      "cell_type": "code",
      "metadata": {
        "id": "-f7uU6rQ6RGl",
        "colab_type": "code",
        "outputId": "444eac52-94a0-4a33-e66c-8d60615458fc",
        "colab": {
          "base_uri": "https://localhost:8080/",
          "height": 0
        }
      },
      "source": [
        "# Select item at index 1\n",
        "my_list[1]"
      ],
      "execution_count": 27,
      "outputs": [
        {
          "output_type": "execute_result",
          "data": {
            "text/plain": [
              "'list'"
            ]
          },
          "metadata": {
            "tags": []
          },
          "execution_count": 27
        }
      ]
    },
    {
      "cell_type": "code",
      "metadata": {
        "id": "x89Hk-ax6YSr",
        "colab_type": "code",
        "outputId": "578f37c3-d5f5-4042-eae2-d361daaeb7b4",
        "colab": {
          "base_uri": "https://localhost:8080/",
          "height": 0
        }
      },
      "source": [
        "# Select 3rd last item\n",
        "my_list[-2]"
      ],
      "execution_count": 28,
      "outputs": [
        {
          "output_type": "execute_result",
          "data": {
            "text/plain": [
              "'is'"
            ]
          },
          "metadata": {
            "tags": []
          },
          "execution_count": 28
        }
      ]
    },
    {
      "cell_type": "markdown",
      "metadata": {
        "id": "A8Dfhbxm6Lw7",
        "colab_type": "text"
      },
      "source": [
        "#### Slice"
      ]
    },
    {
      "cell_type": "code",
      "metadata": {
        "id": "W61Htta06itT",
        "colab_type": "code",
        "outputId": "843e3865-713e-4a37-f87e-9dfad4e6609b",
        "colab": {
          "base_uri": "https://localhost:8080/",
          "height": 0
        }
      },
      "source": [
        "# Select items at index 1 and 2\n",
        "my_list[1:3]"
      ],
      "execution_count": 29,
      "outputs": [
        {
          "output_type": "execute_result",
          "data": {
            "text/plain": [
              "['list', 'is']"
            ]
          },
          "metadata": {
            "tags": []
          },
          "execution_count": 29
        }
      ]
    },
    {
      "cell_type": "code",
      "metadata": {
        "id": "tRthTcWp6oGX",
        "colab_type": "code",
        "outputId": "aa65c3fd-feca-4739-a13c-97e0c5482e50",
        "colab": {
          "base_uri": "https://localhost:8080/",
          "height": 0
        }
      },
      "source": [
        "# Select items after index 0\n",
        "my_list[1:]"
      ],
      "execution_count": 30,
      "outputs": [
        {
          "output_type": "execute_result",
          "data": {
            "text/plain": [
              "['list', 'is', 'nice']"
            ]
          },
          "metadata": {
            "tags": []
          },
          "execution_count": 30
        }
      ]
    },
    {
      "cell_type": "code",
      "metadata": {
        "id": "t-ge5j1P6vSb",
        "colab_type": "code",
        "outputId": "20331f6f-d119-473f-d3dd-c6c9d3a3fed2",
        "colab": {
          "base_uri": "https://localhost:8080/",
          "height": 0
        }
      },
      "source": [
        "# Select items before index 3\n",
        "my_list[:3]"
      ],
      "execution_count": 31,
      "outputs": [
        {
          "output_type": "execute_result",
          "data": {
            "text/plain": [
              "['my', 'list', 'is']"
            ]
          },
          "metadata": {
            "tags": []
          },
          "execution_count": 31
        }
      ]
    },
    {
      "cell_type": "code",
      "metadata": {
        "id": "-Ue5o3Ax62XM",
        "colab_type": "code",
        "outputId": "d3a26474-f411-4d67-8e32-0ea55b8dff8c",
        "colab": {
          "base_uri": "https://localhost:8080/",
          "height": 0
        }
      },
      "source": [
        "# Copy my_list\n",
        "my_list[:]"
      ],
      "execution_count": 32,
      "outputs": [
        {
          "output_type": "execute_result",
          "data": {
            "text/plain": [
              "['my', 'list', 'is', 'nice']"
            ]
          },
          "metadata": {
            "tags": []
          },
          "execution_count": 32
        }
      ]
    },
    {
      "cell_type": "markdown",
      "metadata": {
        "id": "2xVD_yCv6MMb",
        "colab_type": "text"
      },
      "source": [
        "#### Subset List of Lists"
      ]
    },
    {
      "cell_type": "code",
      "metadata": {
        "id": "hWC1VogY67Os",
        "colab_type": "code",
        "outputId": "9ec6475e-bc16-4bb6-86de-15a99fa435f2",
        "colab": {
          "base_uri": "https://localhost:8080/",
          "height": 0
        }
      },
      "source": [
        "# my_list[list][itemOfList]\n",
        "my_list2[1][0]"
      ],
      "execution_count": 33,
      "outputs": [
        {
          "output_type": "execute_result",
          "data": {
            "text/plain": [
              "3"
            ]
          },
          "metadata": {
            "tags": []
          },
          "execution_count": 33
        }
      ]
    },
    {
      "cell_type": "code",
      "metadata": {
        "id": "J5-beH4Y7AbU",
        "colab_type": "code",
        "outputId": "3f66b43d-e492-45bb-bced-2e96a9cfa81a",
        "colab": {
          "base_uri": "https://localhost:8080/",
          "height": 0
        }
      },
      "source": [
        "# my_list[list][itemOfList]\n",
        "my_list2[1][:2]"
      ],
      "execution_count": 34,
      "outputs": [
        {
          "output_type": "execute_result",
          "data": {
            "text/plain": [
              "[3, 4]"
            ]
          },
          "metadata": {
            "tags": []
          },
          "execution_count": 34
        }
      ]
    },
    {
      "cell_type": "markdown",
      "metadata": {
        "id": "02uY1rLW0MZo",
        "colab_type": "text"
      },
      "source": [
        "### List Operations"
      ]
    },
    {
      "cell_type": "code",
      "metadata": {
        "id": "m91XlMeY7IGl",
        "colab_type": "code",
        "outputId": "7535fd83-c5cb-472f-9c6a-837aa3815696",
        "colab": {
          "base_uri": "https://localhost:8080/",
          "height": 0
        }
      },
      "source": [
        "my_list + my_list"
      ],
      "execution_count": 35,
      "outputs": [
        {
          "output_type": "execute_result",
          "data": {
            "text/plain": [
              "['my', 'list', 'is', 'nice', 'my', 'list', 'is', 'nice']"
            ]
          },
          "metadata": {
            "tags": []
          },
          "execution_count": 35
        }
      ]
    },
    {
      "cell_type": "code",
      "metadata": {
        "id": "yJ0mzRpv7JgE",
        "colab_type": "code",
        "outputId": "0f517259-57c6-4986-f02f-c9fb03dea3d8",
        "colab": {
          "base_uri": "https://localhost:8080/",
          "height": 0
        }
      },
      "source": [
        "my_list * 2"
      ],
      "execution_count": 36,
      "outputs": [
        {
          "output_type": "execute_result",
          "data": {
            "text/plain": [
              "['my', 'list', 'is', 'nice', 'my', 'list', 'is', 'nice']"
            ]
          },
          "metadata": {
            "tags": []
          },
          "execution_count": 36
        }
      ]
    },
    {
      "cell_type": "markdown",
      "metadata": {
        "id": "5P4s5f190PXs",
        "colab_type": "text"
      },
      "source": [
        "### List Methods"
      ]
    },
    {
      "cell_type": "code",
      "metadata": {
        "id": "plAg-LEF_ApS",
        "colab_type": "code",
        "outputId": "0b65f84a-d22e-418b-9f34-6ba6838bfcbd",
        "colab": {
          "base_uri": "https://localhost:8080/",
          "height": 0
        }
      },
      "source": [
        "my_list"
      ],
      "execution_count": 37,
      "outputs": [
        {
          "output_type": "execute_result",
          "data": {
            "text/plain": [
              "['my', 'list', 'is', 'nice']"
            ]
          },
          "metadata": {
            "tags": []
          },
          "execution_count": 37
        }
      ]
    },
    {
      "cell_type": "code",
      "metadata": {
        "id": "v0QLwnCm-kTH",
        "colab_type": "code",
        "outputId": "1a6ea94b-7855-41c5-d417-82316bc3c227",
        "colab": {
          "base_uri": "https://localhost:8080/",
          "height": 0
        }
      },
      "source": [
        "# Get the index of an item\n",
        "my_list.index(a)"
      ],
      "execution_count": 38,
      "outputs": [
        {
          "output_type": "execute_result",
          "data": {
            "text/plain": [
              "2"
            ]
          },
          "metadata": {
            "tags": []
          },
          "execution_count": 38
        }
      ]
    },
    {
      "cell_type": "code",
      "metadata": {
        "id": "A9HyPNt4-7N3",
        "colab_type": "code",
        "outputId": "2daa0dbe-a7b7-43ca-8206-fdf2789519b7",
        "colab": {
          "base_uri": "https://localhost:8080/",
          "height": 0
        }
      },
      "source": [
        "# Count an item\n",
        "my_list.count(a)"
      ],
      "execution_count": 39,
      "outputs": [
        {
          "output_type": "execute_result",
          "data": {
            "text/plain": [
              "1"
            ]
          },
          "metadata": {
            "tags": []
          },
          "execution_count": 39
        }
      ]
    },
    {
      "cell_type": "code",
      "metadata": {
        "id": "qBxYkzO3_IQV",
        "colab_type": "code",
        "outputId": "e534bac5-d329-40b3-f150-ed9e80087372",
        "colab": {
          "base_uri": "https://localhost:8080/",
          "height": 0
        }
      },
      "source": [
        "# Append an item at a time\n",
        "my_list.append('!')\n",
        "my_list"
      ],
      "execution_count": 40,
      "outputs": [
        {
          "output_type": "execute_result",
          "data": {
            "text/plain": [
              "['my', 'list', 'is', 'nice', '!']"
            ]
          },
          "metadata": {
            "tags": []
          },
          "execution_count": 40
        }
      ]
    },
    {
      "cell_type": "code",
      "metadata": {
        "id": "TQ79D2HG_Y4W",
        "colab_type": "code",
        "outputId": "5e1d0d58-54b5-4af3-f67b-c0bb264af7b3",
        "colab": {
          "base_uri": "https://localhost:8080/",
          "height": 0
        }
      },
      "source": [
        "# Remove an item\n",
        "my_list.remove('!')\n",
        "my_list"
      ],
      "execution_count": 41,
      "outputs": [
        {
          "output_type": "execute_result",
          "data": {
            "text/plain": [
              "['my', 'list', 'is', 'nice']"
            ]
          },
          "metadata": {
            "tags": []
          },
          "execution_count": 41
        }
      ]
    },
    {
      "cell_type": "code",
      "metadata": {
        "id": "KSTaJVC0_j_2",
        "colab_type": "code",
        "outputId": "604e4286-9cbe-44da-9937-247a69089906",
        "colab": {
          "base_uri": "https://localhost:8080/",
          "height": 0
        }
      },
      "source": [
        "# Remove an item\n",
        "del(my_list[0:1])\n",
        "my_list"
      ],
      "execution_count": 42,
      "outputs": [
        {
          "output_type": "execute_result",
          "data": {
            "text/plain": [
              "['list', 'is', 'nice']"
            ]
          },
          "metadata": {
            "tags": []
          },
          "execution_count": 42
        }
      ]
    },
    {
      "cell_type": "code",
      "metadata": {
        "id": "W_9EJG_C_tW_",
        "colab_type": "code",
        "outputId": "11d264ae-565e-4acf-8c89-3a65f0183159",
        "colab": {
          "base_uri": "https://localhost:8080/",
          "height": 0
        }
      },
      "source": [
        "# Reverse the list\n",
        "my_list.reverse()\n",
        "my_list"
      ],
      "execution_count": 43,
      "outputs": [
        {
          "output_type": "execute_result",
          "data": {
            "text/plain": [
              "['nice', 'is', 'list']"
            ]
          },
          "metadata": {
            "tags": []
          },
          "execution_count": 43
        }
      ]
    },
    {
      "cell_type": "code",
      "metadata": {
        "id": "g6b7Eegn_2X_",
        "colab_type": "code",
        "outputId": "cb21b882-94af-42d3-f478-21b49e5892ce",
        "colab": {
          "base_uri": "https://localhost:8080/",
          "height": 0
        }
      },
      "source": [
        "# Append an item\n",
        "my_list.extend('!')\n",
        "my_list"
      ],
      "execution_count": 44,
      "outputs": [
        {
          "output_type": "execute_result",
          "data": {
            "text/plain": [
              "['nice', 'is', 'list', '!']"
            ]
          },
          "metadata": {
            "tags": []
          },
          "execution_count": 44
        }
      ]
    },
    {
      "cell_type": "code",
      "metadata": {
        "id": "5FFEdVeE_8gu",
        "colab_type": "code",
        "outputId": "503cbc5d-f093-4cfa-aa5e-315acaf12935",
        "colab": {
          "base_uri": "https://localhost:8080/",
          "height": 0
        }
      },
      "source": [
        "# Remove an item\n",
        "my_list.pop(-1)\n",
        "my_list"
      ],
      "execution_count": 45,
      "outputs": [
        {
          "output_type": "execute_result",
          "data": {
            "text/plain": [
              "['nice', 'is', 'list']"
            ]
          },
          "metadata": {
            "tags": []
          },
          "execution_count": 45
        }
      ]
    },
    {
      "cell_type": "code",
      "metadata": {
        "id": "Fz84wj7cACVq",
        "colab_type": "code",
        "outputId": "e11fe601-a52f-4416-94df-c1401fad72ea",
        "colab": {
          "base_uri": "https://localhost:8080/",
          "height": 0
        }
      },
      "source": [
        "# Insert an item\n",
        "my_list.insert(0,'!')\n",
        "my_list"
      ],
      "execution_count": 46,
      "outputs": [
        {
          "output_type": "execute_result",
          "data": {
            "text/plain": [
              "['!', 'nice', 'is', 'list']"
            ]
          },
          "metadata": {
            "tags": []
          },
          "execution_count": 46
        }
      ]
    },
    {
      "cell_type": "code",
      "metadata": {
        "id": "_EWgcM9sAItt",
        "colab_type": "code",
        "outputId": "fc2a1dd0-13a5-4a74-e0ec-c7eba82298ae",
        "colab": {
          "base_uri": "https://localhost:8080/",
          "height": 0
        }
      },
      "source": [
        "# Sort the list\n",
        "my_list.sort()\n",
        "my_list"
      ],
      "execution_count": 47,
      "outputs": [
        {
          "output_type": "execute_result",
          "data": {
            "text/plain": [
              "['!', 'is', 'list', 'nice']"
            ]
          },
          "metadata": {
            "tags": []
          },
          "execution_count": 47
        }
      ]
    },
    {
      "cell_type": "markdown",
      "metadata": {
        "id": "nJAU2Qz_zgDj",
        "colab_type": "text"
      },
      "source": [
        "## Libraries"
      ]
    },
    {
      "cell_type": "markdown",
      "metadata": {
        "id": "_abmeBU30aiE",
        "colab_type": "text"
      },
      "source": [
        "### Import libraries"
      ]
    },
    {
      "cell_type": "code",
      "metadata": {
        "id": "CBzwo_E9ATEY",
        "colab_type": "code",
        "colab": {}
      },
      "source": [
        "import numpy\n",
        "import numpy as np"
      ],
      "execution_count": 0,
      "outputs": []
    },
    {
      "cell_type": "markdown",
      "metadata": {
        "id": "iVr1cdo50dzs",
        "colab_type": "text"
      },
      "source": [
        "### Selective import"
      ]
    },
    {
      "cell_type": "code",
      "metadata": {
        "id": "IVXuT7gnAYOW",
        "colab_type": "code",
        "colab": {}
      },
      "source": [
        "from math import pi"
      ],
      "execution_count": 0,
      "outputs": []
    },
    {
      "cell_type": "markdown",
      "metadata": {
        "id": "FfgOuOPnzhtr",
        "colab_type": "text"
      },
      "source": [
        "## Numpy arrays"
      ]
    },
    {
      "cell_type": "code",
      "metadata": {
        "id": "YczOpMx4AdWX",
        "colab_type": "code",
        "outputId": "d9dbccef-e56b-464b-b8cc-eb334bfdc24a",
        "colab": {
          "base_uri": "https://localhost:8080/",
          "height": 34
        }
      },
      "source": [
        "my_list = [1, 2, 3, 4]\n",
        "my_list"
      ],
      "execution_count": 50,
      "outputs": [
        {
          "output_type": "execute_result",
          "data": {
            "text/plain": [
              "[1, 2, 3, 4]"
            ]
          },
          "metadata": {
            "tags": []
          },
          "execution_count": 50
        }
      ]
    },
    {
      "cell_type": "code",
      "metadata": {
        "id": "5NBNV3qdAgxm",
        "colab_type": "code",
        "outputId": "70934e19-0e4c-4302-e258-ffbbbfbee651",
        "colab": {
          "base_uri": "https://localhost:8080/",
          "height": 34
        }
      },
      "source": [
        "my_array = np.array(my_list)\n",
        "my_array"
      ],
      "execution_count": 51,
      "outputs": [
        {
          "output_type": "execute_result",
          "data": {
            "text/plain": [
              "array([1, 2, 3, 4])"
            ]
          },
          "metadata": {
            "tags": []
          },
          "execution_count": 51
        }
      ]
    },
    {
      "cell_type": "code",
      "metadata": {
        "id": "Gnt74-0yAlS5",
        "colab_type": "code",
        "outputId": "1e5c7fa4-fe75-4857-b7f3-34fe3f631a8f",
        "colab": {
          "base_uri": "https://localhost:8080/",
          "height": 51
        }
      },
      "source": [
        "my_2darray = np.array([[1,2,3],[4,5,6]])\n",
        "my_2darray"
      ],
      "execution_count": 52,
      "outputs": [
        {
          "output_type": "execute_result",
          "data": {
            "text/plain": [
              "array([[1, 2, 3],\n",
              "       [4, 5, 6]])"
            ]
          },
          "metadata": {
            "tags": []
          },
          "execution_count": 52
        }
      ]
    },
    {
      "cell_type": "markdown",
      "metadata": {
        "id": "1ggdicXC0icM",
        "colab_type": "text"
      },
      "source": [
        "### Selecting Numpy Array Elements"
      ]
    },
    {
      "cell_type": "markdown",
      "metadata": {
        "id": "Ig9OKU2tAo6H",
        "colab_type": "text"
      },
      "source": [
        "#### Subset"
      ]
    },
    {
      "cell_type": "code",
      "metadata": {
        "id": "VgyGS5RGAxZ4",
        "colab_type": "code",
        "outputId": "d9b4ba2f-5979-46a9-c5fa-e60a489ed8a4",
        "colab": {
          "base_uri": "https://localhost:8080/",
          "height": 0
        }
      },
      "source": [
        "# Select item at index 1\n",
        "my_array[1]"
      ],
      "execution_count": 53,
      "outputs": [
        {
          "output_type": "execute_result",
          "data": {
            "text/plain": [
              "2"
            ]
          },
          "metadata": {
            "tags": []
          },
          "execution_count": 53
        }
      ]
    },
    {
      "cell_type": "markdown",
      "metadata": {
        "id": "iNm_bk5hAsGx",
        "colab_type": "text"
      },
      "source": [
        "#### Slice"
      ]
    },
    {
      "cell_type": "code",
      "metadata": {
        "id": "FZnj-46WA24D",
        "colab_type": "code",
        "outputId": "97e9f39b-9957-4db2-ac9f-9aba83a9134d",
        "colab": {
          "base_uri": "https://localhost:8080/",
          "height": 0
        }
      },
      "source": [
        "# Select items at index 0 and\n",
        "my_array[0:2]"
      ],
      "execution_count": 54,
      "outputs": [
        {
          "output_type": "execute_result",
          "data": {
            "text/plain": [
              "array([1, 2])"
            ]
          },
          "metadata": {
            "tags": []
          },
          "execution_count": 54
        }
      ]
    },
    {
      "cell_type": "markdown",
      "metadata": {
        "id": "0YPLQ5C8Atiw",
        "colab_type": "text"
      },
      "source": [
        "#### Subset 2D Numpy arrays"
      ]
    },
    {
      "cell_type": "code",
      "metadata": {
        "id": "sqa1tBltA6Vn",
        "colab_type": "code",
        "outputId": "b9e5f5f3-9afe-448e-b521-45efcb3409c2",
        "colab": {
          "base_uri": "https://localhost:8080/",
          "height": 0
        }
      },
      "source": [
        "# my_2darray[rows, columns]\n",
        "my_2darray[:,0]"
      ],
      "execution_count": 55,
      "outputs": [
        {
          "output_type": "execute_result",
          "data": {
            "text/plain": [
              "array([1, 4])"
            ]
          },
          "metadata": {
            "tags": []
          },
          "execution_count": 55
        }
      ]
    },
    {
      "cell_type": "markdown",
      "metadata": {
        "id": "vdDYzOWj0pGz",
        "colab_type": "text"
      },
      "source": [
        "### Numpy Array Operations"
      ]
    },
    {
      "cell_type": "code",
      "metadata": {
        "id": "3pY1cCFJA-QM",
        "colab_type": "code",
        "outputId": "a07196ec-a703-4baa-dd9f-ae99edc8640b",
        "colab": {
          "base_uri": "https://localhost:8080/",
          "height": 0
        }
      },
      "source": [
        "my_array > 3"
      ],
      "execution_count": 56,
      "outputs": [
        {
          "output_type": "execute_result",
          "data": {
            "text/plain": [
              "array([False, False, False,  True])"
            ]
          },
          "metadata": {
            "tags": []
          },
          "execution_count": 56
        }
      ]
    },
    {
      "cell_type": "code",
      "metadata": {
        "id": "J7DzFhiSBBOg",
        "colab_type": "code",
        "outputId": "72072a7c-0423-48d8-cdfe-dd586d3ccca1",
        "colab": {
          "base_uri": "https://localhost:8080/",
          "height": 0
        }
      },
      "source": [
        "my_array * 2"
      ],
      "execution_count": 57,
      "outputs": [
        {
          "output_type": "execute_result",
          "data": {
            "text/plain": [
              "array([2, 4, 6, 8])"
            ]
          },
          "metadata": {
            "tags": []
          },
          "execution_count": 57
        }
      ]
    },
    {
      "cell_type": "code",
      "metadata": {
        "id": "-_K4Rd8zBE8I",
        "colab_type": "code",
        "outputId": "15ebd0c2-91e4-4cc1-995a-f53405e3a293",
        "colab": {
          "base_uri": "https://localhost:8080/",
          "height": 0
        }
      },
      "source": [
        "my_array + np.array([5, 6, 7, 8])"
      ],
      "execution_count": 58,
      "outputs": [
        {
          "output_type": "execute_result",
          "data": {
            "text/plain": [
              "array([ 6,  8, 10, 12])"
            ]
          },
          "metadata": {
            "tags": []
          },
          "execution_count": 58
        }
      ]
    },
    {
      "cell_type": "markdown",
      "metadata": {
        "id": "-nSqQ10Z0sHj",
        "colab_type": "text"
      },
      "source": [
        "### Numpy Array Functions"
      ]
    },
    {
      "cell_type": "code",
      "metadata": {
        "id": "L6fOI0_Zy1UL",
        "colab_type": "code",
        "outputId": "91e3ca94-415f-4588-c5d5-c898e2c95ca2",
        "colab": {
          "base_uri": "https://localhost:8080/",
          "height": 0
        }
      },
      "source": [
        "# Get the dimensions of the array\n",
        "my_array.shape"
      ],
      "execution_count": 59,
      "outputs": [
        {
          "output_type": "execute_result",
          "data": {
            "text/plain": [
              "(4,)"
            ]
          },
          "metadata": {
            "tags": []
          },
          "execution_count": 59
        }
      ]
    },
    {
      "cell_type": "code",
      "metadata": {
        "id": "g1YA9l6rBOy_",
        "colab_type": "code",
        "outputId": "bec5017d-c461-43df-c848-11bcd67ba0ee",
        "colab": {
          "base_uri": "https://localhost:8080/",
          "height": 0
        }
      },
      "source": [
        "# Append items to an array\n",
        "my_3darray = my_2darray\n",
        "np.append(my_3darray,[6,7,8])\n"
      ],
      "execution_count": 60,
      "outputs": [
        {
          "output_type": "execute_result",
          "data": {
            "text/plain": [
              "array([1, 2, 3, 4, 5, 6, 6, 7, 8])"
            ]
          },
          "metadata": {
            "tags": []
          },
          "execution_count": 60
        }
      ]
    },
    {
      "cell_type": "code",
      "metadata": {
        "id": "r-BgtotZFbrs",
        "colab_type": "code",
        "outputId": "52509dce-47ac-4747-8862-25245ef63256",
        "colab": {
          "base_uri": "https://localhost:8080/",
          "height": 0
        }
      },
      "source": [
        "# Insert items in an array\n",
        "np.insert(my_array, 1, 5)"
      ],
      "execution_count": 61,
      "outputs": [
        {
          "output_type": "execute_result",
          "data": {
            "text/plain": [
              "array([1, 5, 2, 3, 4])"
            ]
          },
          "metadata": {
            "tags": []
          },
          "execution_count": 61
        }
      ]
    },
    {
      "cell_type": "code",
      "metadata": {
        "id": "1eN_QekXFgfx",
        "colab_type": "code",
        "outputId": "cd8cc59a-6f7e-424d-f8c4-1453463e5f0b",
        "colab": {
          "base_uri": "https://localhost:8080/",
          "height": 0
        }
      },
      "source": [
        "# Delete items in an array\n",
        "np.delete(my_array,[1])"
      ],
      "execution_count": 62,
      "outputs": [
        {
          "output_type": "execute_result",
          "data": {
            "text/plain": [
              "array([1, 3, 4])"
            ]
          },
          "metadata": {
            "tags": []
          },
          "execution_count": 62
        }
      ]
    },
    {
      "cell_type": "code",
      "metadata": {
        "id": "2r6I-DoGFjr4",
        "colab_type": "code",
        "outputId": "0e45e4f8-0c75-4d55-df4a-6da57a5ca042",
        "colab": {
          "base_uri": "https://localhost:8080/",
          "height": 0
        }
      },
      "source": [
        "# Mean of the array\n",
        "np.mean(my_array)"
      ],
      "execution_count": 63,
      "outputs": [
        {
          "output_type": "execute_result",
          "data": {
            "text/plain": [
              "2.5"
            ]
          },
          "metadata": {
            "tags": []
          },
          "execution_count": 63
        }
      ]
    },
    {
      "cell_type": "code",
      "metadata": {
        "id": "xN8JzmrDFnq7",
        "colab_type": "code",
        "outputId": "1f0fc2b3-4020-4de4-e19b-d5e96dce79e9",
        "colab": {
          "base_uri": "https://localhost:8080/",
          "height": 0
        }
      },
      "source": [
        "# Median of the array\n",
        "np.median(my_array)"
      ],
      "execution_count": 64,
      "outputs": [
        {
          "output_type": "execute_result",
          "data": {
            "text/plain": [
              "2.5"
            ]
          },
          "metadata": {
            "tags": []
          },
          "execution_count": 64
        }
      ]
    },
    {
      "cell_type": "code",
      "metadata": {
        "id": "NuyUrpQwFqwQ",
        "colab_type": "code",
        "colab": {}
      },
      "source": [
        "# Correlation coefficient\n",
        "# my_array.corrcoef()"
      ],
      "execution_count": 0,
      "outputs": []
    },
    {
      "cell_type": "code",
      "metadata": {
        "id": "v15AQUs9F0ba",
        "colab_type": "code",
        "outputId": "e10e82c6-2626-4f23-caa3-7ae16d272386",
        "colab": {
          "base_uri": "https://localhost:8080/",
          "height": 0
        }
      },
      "source": [
        "# Standard deviation\n",
        "np.std(my_array)"
      ],
      "execution_count": 66,
      "outputs": [
        {
          "output_type": "execute_result",
          "data": {
            "text/plain": [
              "1.118033988749895"
            ]
          },
          "metadata": {
            "tags": []
          },
          "execution_count": 66
        }
      ]
    }
  ]
}