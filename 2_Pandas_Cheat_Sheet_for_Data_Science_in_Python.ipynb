{
  "nbformat": 4,
  "nbformat_minor": 0,
  "metadata": {
    "colab": {
      "name": "2. Pandas Cheat Sheet for Data Science in Python.ipynb",
      "provenance": [],
      "authorship_tag": "ABX9TyNEjbMNVrBax3lwHC+lrCSk",
      "include_colab_link": true
    },
    "kernelspec": {
      "name": "python3",
      "display_name": "Python 3"
    }
  },
  "cells": [
    {
      "cell_type": "markdown",
      "metadata": {
        "id": "view-in-github",
        "colab_type": "text"
      },
      "source": [
        "<a href=\"https://colab.research.google.com/github/jessicamadridmejia/Cheat-Sheets/blob/master/2_Pandas_Cheat_Sheet_for_Data_Science_in_Python.ipynb\" target=\"_parent\"><img src=\"https://colab.research.google.com/assets/colab-badge.svg\" alt=\"Open In Colab\"/></a>"
      ]
    },
    {
      "cell_type": "markdown",
      "metadata": {
        "id": "niGUReWogCaS",
        "colab_type": "text"
      },
      "source": [
        "# Pandas\n",
        "\n",
        "The Pandas library is built on NumPy and provides easy-to-use\n",
        "data structures and data analysis tools for the Python\n",
        "programming language."
      ]
    },
    {
      "cell_type": "code",
      "metadata": {
        "id": "h0OY1h6lQXdg",
        "colab_type": "code",
        "colab": {}
      },
      "source": [
        "# Use the following import convention:\n",
        "import pandas as pd"
      ],
      "execution_count": 0,
      "outputs": []
    },
    {
      "cell_type": "markdown",
      "metadata": {
        "id": "5j1D23S5hNGB",
        "colab_type": "text"
      },
      "source": [
        "## Pandas Data Structures\n",
        "\n",
        "### Series\n",
        "A one-dimensional labeled array capable of holding any data type."
      ]
    },
    {
      "cell_type": "code",
      "metadata": {
        "id": "0fUqEn18d1yJ",
        "colab_type": "code",
        "colab": {}
      },
      "source": [
        "s = pd.Series([3,-5,7,4], index=['a','b','c','d'])"
      ],
      "execution_count": 0,
      "outputs": []
    },
    {
      "cell_type": "code",
      "metadata": {
        "id": "9gKrUMl6iZ5-",
        "colab_type": "code",
        "outputId": "264f829b-de7e-481f-a79b-913d6aab2b07",
        "colab": {
          "base_uri": "https://localhost:8080/",
          "height": 102
        }
      },
      "source": [
        "s"
      ],
      "execution_count": 3,
      "outputs": [
        {
          "output_type": "execute_result",
          "data": {
            "text/plain": [
              "a    3\n",
              "b   -5\n",
              "c    7\n",
              "d    4\n",
              "dtype: int64"
            ]
          },
          "metadata": {
            "tags": []
          },
          "execution_count": 3
        }
      ]
    },
    {
      "cell_type": "markdown",
      "metadata": {
        "id": "zwPhFZDWhid_",
        "colab_type": "text"
      },
      "source": [
        "### Data Frame\n",
        "A two-dimensional labeled data structure with columns of potentially different types."
      ]
    },
    {
      "cell_type": "code",
      "metadata": {
        "id": "qKoyEBB2hqKc",
        "colab_type": "code",
        "colab": {}
      },
      "source": [
        "data = {'Country': ['Belgium', 'India', 'Brazil'],\n",
        "        'Capital': ['Brussels', 'New Delhi', 'Brasília'],\n",
        "        'Population': [11190846, 1303171035, 207847528]}\n",
        "\n",
        "df = pd.DataFrame(data, columns=['Country','Capital','Population'])"
      ],
      "execution_count": 0,
      "outputs": []
    },
    {
      "cell_type": "code",
      "metadata": {
        "id": "Fib9o4J_ib6X",
        "colab_type": "code",
        "outputId": "5857278c-ad7f-4034-a00c-fbbbfbdebae2",
        "colab": {
          "base_uri": "https://localhost:8080/",
          "height": 142
        }
      },
      "source": [
        "df"
      ],
      "execution_count": 5,
      "outputs": [
        {
          "output_type": "execute_result",
          "data": {
            "text/html": [
              "<div>\n",
              "<style scoped>\n",
              "    .dataframe tbody tr th:only-of-type {\n",
              "        vertical-align: middle;\n",
              "    }\n",
              "\n",
              "    .dataframe tbody tr th {\n",
              "        vertical-align: top;\n",
              "    }\n",
              "\n",
              "    .dataframe thead th {\n",
              "        text-align: right;\n",
              "    }\n",
              "</style>\n",
              "<table border=\"1\" class=\"dataframe\">\n",
              "  <thead>\n",
              "    <tr style=\"text-align: right;\">\n",
              "      <th></th>\n",
              "      <th>Country</th>\n",
              "      <th>Capital</th>\n",
              "      <th>Population</th>\n",
              "    </tr>\n",
              "  </thead>\n",
              "  <tbody>\n",
              "    <tr>\n",
              "      <th>0</th>\n",
              "      <td>Belgium</td>\n",
              "      <td>Brussels</td>\n",
              "      <td>11190846</td>\n",
              "    </tr>\n",
              "    <tr>\n",
              "      <th>1</th>\n",
              "      <td>India</td>\n",
              "      <td>New Delhi</td>\n",
              "      <td>1303171035</td>\n",
              "    </tr>\n",
              "    <tr>\n",
              "      <th>2</th>\n",
              "      <td>Brazil</td>\n",
              "      <td>Brasília</td>\n",
              "      <td>207847528</td>\n",
              "    </tr>\n",
              "  </tbody>\n",
              "</table>\n",
              "</div>"
            ],
            "text/plain": [
              "   Country    Capital  Population\n",
              "0  Belgium   Brussels    11190846\n",
              "1    India  New Delhi  1303171035\n",
              "2   Brazil   Brasília   207847528"
            ]
          },
          "metadata": {
            "tags": []
          },
          "execution_count": 5
        }
      ]
    },
    {
      "cell_type": "markdown",
      "metadata": {
        "id": "dtoVBf_MjI73",
        "colab_type": "text"
      },
      "source": [
        "## Asking for help"
      ]
    },
    {
      "cell_type": "code",
      "metadata": {
        "id": "TBfC3u2KjQJO",
        "colab_type": "code",
        "colab": {}
      },
      "source": [
        "# help(pd.Series.loc)"
      ],
      "execution_count": 0,
      "outputs": []
    },
    {
      "cell_type": "markdown",
      "metadata": {
        "id": "FLwqeP9AjX5q",
        "colab_type": "text"
      },
      "source": [
        "## Selection\n",
        "\n",
        "### Getting"
      ]
    },
    {
      "cell_type": "code",
      "metadata": {
        "id": "yaqhACEVkXdm",
        "colab_type": "code",
        "outputId": "fb353b53-0e69-4db0-fa6f-5825d1dcbf84",
        "colab": {
          "base_uri": "https://localhost:8080/",
          "height": 34
        }
      },
      "source": [
        "# Get one element\n",
        "s['b']"
      ],
      "execution_count": 7,
      "outputs": [
        {
          "output_type": "execute_result",
          "data": {
            "text/plain": [
              "-5"
            ]
          },
          "metadata": {
            "tags": []
          },
          "execution_count": 7
        }
      ]
    },
    {
      "cell_type": "code",
      "metadata": {
        "id": "6n-IJ0X5kfxP",
        "colab_type": "code",
        "outputId": "132a96fb-a1b2-4e6d-89da-fc2a598a0606",
        "colab": {
          "base_uri": "https://localhost:8080/",
          "height": 111
        }
      },
      "source": [
        "# Get subset of a DataFrame\n",
        "df[1:]"
      ],
      "execution_count": 8,
      "outputs": [
        {
          "output_type": "execute_result",
          "data": {
            "text/html": [
              "<div>\n",
              "<style scoped>\n",
              "    .dataframe tbody tr th:only-of-type {\n",
              "        vertical-align: middle;\n",
              "    }\n",
              "\n",
              "    .dataframe tbody tr th {\n",
              "        vertical-align: top;\n",
              "    }\n",
              "\n",
              "    .dataframe thead th {\n",
              "        text-align: right;\n",
              "    }\n",
              "</style>\n",
              "<table border=\"1\" class=\"dataframe\">\n",
              "  <thead>\n",
              "    <tr style=\"text-align: right;\">\n",
              "      <th></th>\n",
              "      <th>Country</th>\n",
              "      <th>Capital</th>\n",
              "      <th>Population</th>\n",
              "    </tr>\n",
              "  </thead>\n",
              "  <tbody>\n",
              "    <tr>\n",
              "      <th>1</th>\n",
              "      <td>India</td>\n",
              "      <td>New Delhi</td>\n",
              "      <td>1303171035</td>\n",
              "    </tr>\n",
              "    <tr>\n",
              "      <th>2</th>\n",
              "      <td>Brazil</td>\n",
              "      <td>Brasília</td>\n",
              "      <td>207847528</td>\n",
              "    </tr>\n",
              "  </tbody>\n",
              "</table>\n",
              "</div>"
            ],
            "text/plain": [
              "  Country    Capital  Population\n",
              "1   India  New Delhi  1303171035\n",
              "2  Brazil   Brasília   207847528"
            ]
          },
          "metadata": {
            "tags": []
          },
          "execution_count": 8
        }
      ]
    },
    {
      "cell_type": "markdown",
      "metadata": {
        "id": "oWuaXDZRj4E9",
        "colab_type": "text"
      },
      "source": [
        "### Selecting, Boolean Indexing & Setting\n",
        "\n",
        "#### By Position"
      ]
    },
    {
      "cell_type": "code",
      "metadata": {
        "id": "cvd73we2ldAw",
        "colab_type": "code",
        "outputId": "08bdc3aa-3405-414f-a92b-2a9853bf2584",
        "colab": {
          "base_uri": "https://localhost:8080/",
          "height": 80
        }
      },
      "source": [
        "# Select single value by row & column\n",
        "df.iloc[[0],[0]]"
      ],
      "execution_count": 9,
      "outputs": [
        {
          "output_type": "execute_result",
          "data": {
            "text/html": [
              "<div>\n",
              "<style scoped>\n",
              "    .dataframe tbody tr th:only-of-type {\n",
              "        vertical-align: middle;\n",
              "    }\n",
              "\n",
              "    .dataframe tbody tr th {\n",
              "        vertical-align: top;\n",
              "    }\n",
              "\n",
              "    .dataframe thead th {\n",
              "        text-align: right;\n",
              "    }\n",
              "</style>\n",
              "<table border=\"1\" class=\"dataframe\">\n",
              "  <thead>\n",
              "    <tr style=\"text-align: right;\">\n",
              "      <th></th>\n",
              "      <th>Country</th>\n",
              "    </tr>\n",
              "  </thead>\n",
              "  <tbody>\n",
              "    <tr>\n",
              "      <th>0</th>\n",
              "      <td>Belgium</td>\n",
              "    </tr>\n",
              "  </tbody>\n",
              "</table>\n",
              "</div>"
            ],
            "text/plain": [
              "   Country\n",
              "0  Belgium"
            ]
          },
          "metadata": {
            "tags": []
          },
          "execution_count": 9
        }
      ]
    },
    {
      "cell_type": "code",
      "metadata": {
        "id": "dE9yaozOlz0y",
        "colab_type": "code",
        "outputId": "099c625f-ee01-43f0-a529-52367f5722a6",
        "colab": {
          "base_uri": "https://localhost:8080/",
          "height": 34
        }
      },
      "source": [
        "# Select single value by row & column\n",
        "df.iat[0,0]"
      ],
      "execution_count": 10,
      "outputs": [
        {
          "output_type": "execute_result",
          "data": {
            "text/plain": [
              "'Belgium'"
            ]
          },
          "metadata": {
            "tags": []
          },
          "execution_count": 10
        }
      ]
    },
    {
      "cell_type": "markdown",
      "metadata": {
        "id": "tLewMvt6nEPc",
        "colab_type": "text"
      },
      "source": [
        "#### By Position"
      ]
    },
    {
      "cell_type": "code",
      "metadata": {
        "id": "RHk183Y3nNOm",
        "colab_type": "code",
        "outputId": "f490a0c9-a6a9-44a7-fccd-b4c27332fcd4",
        "colab": {
          "base_uri": "https://localhost:8080/",
          "height": 80
        }
      },
      "source": [
        "# Select single value by row & column labels\n",
        "df.loc[[0],['Country']]"
      ],
      "execution_count": 11,
      "outputs": [
        {
          "output_type": "execute_result",
          "data": {
            "text/html": [
              "<div>\n",
              "<style scoped>\n",
              "    .dataframe tbody tr th:only-of-type {\n",
              "        vertical-align: middle;\n",
              "    }\n",
              "\n",
              "    .dataframe tbody tr th {\n",
              "        vertical-align: top;\n",
              "    }\n",
              "\n",
              "    .dataframe thead th {\n",
              "        text-align: right;\n",
              "    }\n",
              "</style>\n",
              "<table border=\"1\" class=\"dataframe\">\n",
              "  <thead>\n",
              "    <tr style=\"text-align: right;\">\n",
              "      <th></th>\n",
              "      <th>Country</th>\n",
              "    </tr>\n",
              "  </thead>\n",
              "  <tbody>\n",
              "    <tr>\n",
              "      <th>0</th>\n",
              "      <td>Belgium</td>\n",
              "    </tr>\n",
              "  </tbody>\n",
              "</table>\n",
              "</div>"
            ],
            "text/plain": [
              "   Country\n",
              "0  Belgium"
            ]
          },
          "metadata": {
            "tags": []
          },
          "execution_count": 11
        }
      ]
    },
    {
      "cell_type": "code",
      "metadata": {
        "id": "V42fM00-oTsx",
        "colab_type": "code",
        "outputId": "a04cc64f-057a-4e81-a84a-b70cd5df9dca",
        "colab": {
          "base_uri": "https://localhost:8080/",
          "height": 34
        }
      },
      "source": [
        "# Select single value by row & column labels\n",
        "df.at[0,'Country']"
      ],
      "execution_count": 12,
      "outputs": [
        {
          "output_type": "execute_result",
          "data": {
            "text/plain": [
              "'Belgium'"
            ]
          },
          "metadata": {
            "tags": []
          },
          "execution_count": 12
        }
      ]
    },
    {
      "cell_type": "markdown",
      "metadata": {
        "id": "dvQSbcDapDNS",
        "colab_type": "text"
      },
      "source": [
        "#### By Label/Position"
      ]
    },
    {
      "cell_type": "code",
      "metadata": {
        "id": "QvirGXNYpDfD",
        "colab_type": "code",
        "outputId": "4387781c-a2d8-4a2e-9b91-4d680f67d3f5",
        "colab": {
          "base_uri": "https://localhost:8080/",
          "height": 221
        }
      },
      "source": [
        "# Select single row of subset of rows\n",
        "df.ix[2]"
      ],
      "execution_count": 13,
      "outputs": [
        {
          "output_type": "stream",
          "text": [
            "/usr/local/lib/python3.6/dist-packages/ipykernel_launcher.py:1: FutureWarning: \n",
            ".ix is deprecated. Please use\n",
            ".loc for label based indexing or\n",
            ".iloc for positional indexing\n",
            "\n",
            "See the documentation here:\n",
            "http://pandas.pydata.org/pandas-docs/stable/user_guide/indexing.html#ix-indexer-is-deprecated\n",
            "  \"\"\"Entry point for launching an IPython kernel.\n"
          ],
          "name": "stderr"
        },
        {
          "output_type": "execute_result",
          "data": {
            "text/plain": [
              "Country          Brazil\n",
              "Capital        Brasília\n",
              "Population    207847528\n",
              "Name: 2, dtype: object"
            ]
          },
          "metadata": {
            "tags": []
          },
          "execution_count": 13
        }
      ]
    },
    {
      "cell_type": "code",
      "metadata": {
        "id": "1vfMOtejpYVZ",
        "colab_type": "code",
        "outputId": "4edcaa48-eced-4371-c3bb-b8764a4959b5",
        "colab": {
          "base_uri": "https://localhost:8080/",
          "height": 221
        }
      },
      "source": [
        "# Select a single column of subset of columns\n",
        "df.ix[:,'Capital']"
      ],
      "execution_count": 14,
      "outputs": [
        {
          "output_type": "stream",
          "text": [
            "/usr/local/lib/python3.6/dist-packages/ipykernel_launcher.py:1: FutureWarning: \n",
            ".ix is deprecated. Please use\n",
            ".loc for label based indexing or\n",
            ".iloc for positional indexing\n",
            "\n",
            "See the documentation here:\n",
            "http://pandas.pydata.org/pandas-docs/stable/user_guide/indexing.html#ix-indexer-is-deprecated\n",
            "  \"\"\"Entry point for launching an IPython kernel.\n"
          ],
          "name": "stderr"
        },
        {
          "output_type": "execute_result",
          "data": {
            "text/plain": [
              "0     Brussels\n",
              "1    New Delhi\n",
              "2     Brasília\n",
              "Name: Capital, dtype: object"
            ]
          },
          "metadata": {
            "tags": []
          },
          "execution_count": 14
        }
      ]
    },
    {
      "cell_type": "code",
      "metadata": {
        "id": "KJrbA4oYpYgx",
        "colab_type": "code",
        "outputId": "9f9ec5d2-82fe-4fb3-fba1-0ed062afeae0",
        "colab": {
          "base_uri": "https://localhost:8080/",
          "height": 170
        }
      },
      "source": [
        "# Select rows and columns\n",
        "df.ix[1,'Capital']"
      ],
      "execution_count": 15,
      "outputs": [
        {
          "output_type": "stream",
          "text": [
            "/usr/local/lib/python3.6/dist-packages/ipykernel_launcher.py:1: FutureWarning: \n",
            ".ix is deprecated. Please use\n",
            ".loc for label based indexing or\n",
            ".iloc for positional indexing\n",
            "\n",
            "See the documentation here:\n",
            "http://pandas.pydata.org/pandas-docs/stable/user_guide/indexing.html#ix-indexer-is-deprecated\n",
            "  \"\"\"Entry point for launching an IPython kernel.\n"
          ],
          "name": "stderr"
        },
        {
          "output_type": "execute_result",
          "data": {
            "text/plain": [
              "'New Delhi'"
            ]
          },
          "metadata": {
            "tags": []
          },
          "execution_count": 15
        }
      ]
    },
    {
      "cell_type": "markdown",
      "metadata": {
        "id": "m9XJjzoLpPOp",
        "colab_type": "text"
      },
      "source": [
        "#### Boolean Indexing"
      ]
    },
    {
      "cell_type": "code",
      "metadata": {
        "id": "6Y0XAB6Cqhcp",
        "colab_type": "code",
        "outputId": "2cb370a3-a973-4cd5-84b0-e3f5639c20a6",
        "colab": {
          "base_uri": "https://localhost:8080/",
          "height": 51
        }
      },
      "source": [
        "# Series s where value is not >1\n",
        "s[~(s>1)]"
      ],
      "execution_count": 16,
      "outputs": [
        {
          "output_type": "execute_result",
          "data": {
            "text/plain": [
              "b   -5\n",
              "dtype: int64"
            ]
          },
          "metadata": {
            "tags": []
          },
          "execution_count": 16
        }
      ]
    },
    {
      "cell_type": "code",
      "metadata": {
        "id": "4Rmv2shtqicJ",
        "colab_type": "code",
        "outputId": "be9bb6b1-34b2-4d88-9ce1-7889db230715",
        "colab": {
          "base_uri": "https://localhost:8080/",
          "height": 102
        }
      },
      "source": [
        "# s where value is <-1 or >2\n",
        "s[(s<-1) | (s>2)]"
      ],
      "execution_count": 17,
      "outputs": [
        {
          "output_type": "execute_result",
          "data": {
            "text/plain": [
              "a    3\n",
              "b   -5\n",
              "c    7\n",
              "d    4\n",
              "dtype: int64"
            ]
          },
          "metadata": {
            "tags": []
          },
          "execution_count": 17
        }
      ]
    },
    {
      "cell_type": "code",
      "metadata": {
        "id": "oj6Xaejrqmlq",
        "colab_type": "code",
        "outputId": "13add184-bbe0-4639-d238-441c0e802abd",
        "colab": {
          "base_uri": "https://localhost:8080/",
          "height": 80
        }
      },
      "source": [
        "# Use filter to adjust DataFrame\n",
        "df[(df['Population']>1200000000)]"
      ],
      "execution_count": 18,
      "outputs": [
        {
          "output_type": "execute_result",
          "data": {
            "text/html": [
              "<div>\n",
              "<style scoped>\n",
              "    .dataframe tbody tr th:only-of-type {\n",
              "        vertical-align: middle;\n",
              "    }\n",
              "\n",
              "    .dataframe tbody tr th {\n",
              "        vertical-align: top;\n",
              "    }\n",
              "\n",
              "    .dataframe thead th {\n",
              "        text-align: right;\n",
              "    }\n",
              "</style>\n",
              "<table border=\"1\" class=\"dataframe\">\n",
              "  <thead>\n",
              "    <tr style=\"text-align: right;\">\n",
              "      <th></th>\n",
              "      <th>Country</th>\n",
              "      <th>Capital</th>\n",
              "      <th>Population</th>\n",
              "    </tr>\n",
              "  </thead>\n",
              "  <tbody>\n",
              "    <tr>\n",
              "      <th>1</th>\n",
              "      <td>India</td>\n",
              "      <td>New Delhi</td>\n",
              "      <td>1303171035</td>\n",
              "    </tr>\n",
              "  </tbody>\n",
              "</table>\n",
              "</div>"
            ],
            "text/plain": [
              "  Country    Capital  Population\n",
              "1   India  New Delhi  1303171035"
            ]
          },
          "metadata": {
            "tags": []
          },
          "execution_count": 18
        }
      ]
    },
    {
      "cell_type": "markdown",
      "metadata": {
        "id": "x8My7FH4pT0R",
        "colab_type": "text"
      },
      "source": [
        "#### Setting"
      ]
    },
    {
      "cell_type": "code",
      "metadata": {
        "id": "IcpbtvOutf4w",
        "colab_type": "code",
        "outputId": "9c0e2564-474a-4b03-d70d-e41c2fb5234f",
        "colab": {
          "base_uri": "https://localhost:8080/",
          "height": 187
        }
      },
      "source": [
        "# Set index a of Series s to 6\n",
        "print(s)\n",
        "s['a'] = 6\n",
        "print(s)"
      ],
      "execution_count": 19,
      "outputs": [
        {
          "output_type": "stream",
          "text": [
            "a    3\n",
            "b   -5\n",
            "c    7\n",
            "d    4\n",
            "dtype: int64\n",
            "a    6\n",
            "b   -5\n",
            "c    7\n",
            "d    4\n",
            "dtype: int64\n"
          ],
          "name": "stdout"
        }
      ]
    },
    {
      "cell_type": "markdown",
      "metadata": {
        "id": "Y9iW5Gxat8OW",
        "colab_type": "text"
      },
      "source": [
        "## Dropping"
      ]
    },
    {
      "cell_type": "code",
      "metadata": {
        "id": "-jfAFoA4vOlO",
        "colab_type": "code",
        "outputId": "4e592063-3e3c-464c-cc8b-fbf38da27481",
        "colab": {
          "base_uri": "https://localhost:8080/",
          "height": 68
        }
      },
      "source": [
        "# Drop values from rows (axis=0)\n",
        "s.drop(['a','c'])\n"
      ],
      "execution_count": 20,
      "outputs": [
        {
          "output_type": "execute_result",
          "data": {
            "text/plain": [
              "b   -5\n",
              "d    4\n",
              "dtype: int64"
            ]
          },
          "metadata": {
            "tags": []
          },
          "execution_count": 20
        }
      ]
    },
    {
      "cell_type": "code",
      "metadata": {
        "id": "qPjCOnVmvQ-O",
        "colab_type": "code",
        "outputId": "c9795b31-ccf2-459b-d40e-b62d9772b88d",
        "colab": {
          "base_uri": "https://localhost:8080/",
          "height": 142
        }
      },
      "source": [
        "# Drop values from columns(axis=1)\n",
        "df.drop('Country', axis=1)"
      ],
      "execution_count": 21,
      "outputs": [
        {
          "output_type": "execute_result",
          "data": {
            "text/html": [
              "<div>\n",
              "<style scoped>\n",
              "    .dataframe tbody tr th:only-of-type {\n",
              "        vertical-align: middle;\n",
              "    }\n",
              "\n",
              "    .dataframe tbody tr th {\n",
              "        vertical-align: top;\n",
              "    }\n",
              "\n",
              "    .dataframe thead th {\n",
              "        text-align: right;\n",
              "    }\n",
              "</style>\n",
              "<table border=\"1\" class=\"dataframe\">\n",
              "  <thead>\n",
              "    <tr style=\"text-align: right;\">\n",
              "      <th></th>\n",
              "      <th>Capital</th>\n",
              "      <th>Population</th>\n",
              "    </tr>\n",
              "  </thead>\n",
              "  <tbody>\n",
              "    <tr>\n",
              "      <th>0</th>\n",
              "      <td>Brussels</td>\n",
              "      <td>11190846</td>\n",
              "    </tr>\n",
              "    <tr>\n",
              "      <th>1</th>\n",
              "      <td>New Delhi</td>\n",
              "      <td>1303171035</td>\n",
              "    </tr>\n",
              "    <tr>\n",
              "      <th>2</th>\n",
              "      <td>Brasília</td>\n",
              "      <td>207847528</td>\n",
              "    </tr>\n",
              "  </tbody>\n",
              "</table>\n",
              "</div>"
            ],
            "text/plain": [
              "     Capital  Population\n",
              "0   Brussels    11190846\n",
              "1  New Delhi  1303171035\n",
              "2   Brasília   207847528"
            ]
          },
          "metadata": {
            "tags": []
          },
          "execution_count": 21
        }
      ]
    },
    {
      "cell_type": "markdown",
      "metadata": {
        "id": "rmeoJI1Mt_d0",
        "colab_type": "text"
      },
      "source": [
        "## Sort & Rank"
      ]
    },
    {
      "cell_type": "code",
      "metadata": {
        "id": "fg31YMKfw-WO",
        "colab_type": "code",
        "outputId": "5a36edf9-f967-473c-d5e2-433b4c096961",
        "colab": {
          "base_uri": "https://localhost:8080/",
          "height": 142
        }
      },
      "source": [
        "# Sort by labels along an axis\n",
        "df.sort_index()"
      ],
      "execution_count": 22,
      "outputs": [
        {
          "output_type": "execute_result",
          "data": {
            "text/html": [
              "<div>\n",
              "<style scoped>\n",
              "    .dataframe tbody tr th:only-of-type {\n",
              "        vertical-align: middle;\n",
              "    }\n",
              "\n",
              "    .dataframe tbody tr th {\n",
              "        vertical-align: top;\n",
              "    }\n",
              "\n",
              "    .dataframe thead th {\n",
              "        text-align: right;\n",
              "    }\n",
              "</style>\n",
              "<table border=\"1\" class=\"dataframe\">\n",
              "  <thead>\n",
              "    <tr style=\"text-align: right;\">\n",
              "      <th></th>\n",
              "      <th>Country</th>\n",
              "      <th>Capital</th>\n",
              "      <th>Population</th>\n",
              "    </tr>\n",
              "  </thead>\n",
              "  <tbody>\n",
              "    <tr>\n",
              "      <th>0</th>\n",
              "      <td>Belgium</td>\n",
              "      <td>Brussels</td>\n",
              "      <td>11190846</td>\n",
              "    </tr>\n",
              "    <tr>\n",
              "      <th>1</th>\n",
              "      <td>India</td>\n",
              "      <td>New Delhi</td>\n",
              "      <td>1303171035</td>\n",
              "    </tr>\n",
              "    <tr>\n",
              "      <th>2</th>\n",
              "      <td>Brazil</td>\n",
              "      <td>Brasília</td>\n",
              "      <td>207847528</td>\n",
              "    </tr>\n",
              "  </tbody>\n",
              "</table>\n",
              "</div>"
            ],
            "text/plain": [
              "   Country    Capital  Population\n",
              "0  Belgium   Brussels    11190846\n",
              "1    India  New Delhi  1303171035\n",
              "2   Brazil   Brasília   207847528"
            ]
          },
          "metadata": {
            "tags": []
          },
          "execution_count": 22
        }
      ]
    },
    {
      "cell_type": "code",
      "metadata": {
        "id": "E20oPSgYw_1Z",
        "colab_type": "code",
        "outputId": "1065e7ba-0e34-45e0-c50d-7573aff8c33c",
        "colab": {
          "base_uri": "https://localhost:8080/",
          "height": 142
        }
      },
      "source": [
        "# Sort by the values along an axis\n",
        "df.sort_values(by='Country')"
      ],
      "execution_count": 23,
      "outputs": [
        {
          "output_type": "execute_result",
          "data": {
            "text/html": [
              "<div>\n",
              "<style scoped>\n",
              "    .dataframe tbody tr th:only-of-type {\n",
              "        vertical-align: middle;\n",
              "    }\n",
              "\n",
              "    .dataframe tbody tr th {\n",
              "        vertical-align: top;\n",
              "    }\n",
              "\n",
              "    .dataframe thead th {\n",
              "        text-align: right;\n",
              "    }\n",
              "</style>\n",
              "<table border=\"1\" class=\"dataframe\">\n",
              "  <thead>\n",
              "    <tr style=\"text-align: right;\">\n",
              "      <th></th>\n",
              "      <th>Country</th>\n",
              "      <th>Capital</th>\n",
              "      <th>Population</th>\n",
              "    </tr>\n",
              "  </thead>\n",
              "  <tbody>\n",
              "    <tr>\n",
              "      <th>0</th>\n",
              "      <td>Belgium</td>\n",
              "      <td>Brussels</td>\n",
              "      <td>11190846</td>\n",
              "    </tr>\n",
              "    <tr>\n",
              "      <th>2</th>\n",
              "      <td>Brazil</td>\n",
              "      <td>Brasília</td>\n",
              "      <td>207847528</td>\n",
              "    </tr>\n",
              "    <tr>\n",
              "      <th>1</th>\n",
              "      <td>India</td>\n",
              "      <td>New Delhi</td>\n",
              "      <td>1303171035</td>\n",
              "    </tr>\n",
              "  </tbody>\n",
              "</table>\n",
              "</div>"
            ],
            "text/plain": [
              "   Country    Capital  Population\n",
              "0  Belgium   Brussels    11190846\n",
              "2   Brazil   Brasília   207847528\n",
              "1    India  New Delhi  1303171035"
            ]
          },
          "metadata": {
            "tags": []
          },
          "execution_count": 23
        }
      ]
    },
    {
      "cell_type": "code",
      "metadata": {
        "id": "FLwifeQHxCje",
        "colab_type": "code",
        "outputId": "9b6635d3-8902-488d-9a28-9982ed333a15",
        "colab": {
          "base_uri": "https://localhost:8080/",
          "height": 142
        }
      },
      "source": [
        "# Assign ranks to entries\n",
        "df.rank()"
      ],
      "execution_count": 24,
      "outputs": [
        {
          "output_type": "execute_result",
          "data": {
            "text/html": [
              "<div>\n",
              "<style scoped>\n",
              "    .dataframe tbody tr th:only-of-type {\n",
              "        vertical-align: middle;\n",
              "    }\n",
              "\n",
              "    .dataframe tbody tr th {\n",
              "        vertical-align: top;\n",
              "    }\n",
              "\n",
              "    .dataframe thead th {\n",
              "        text-align: right;\n",
              "    }\n",
              "</style>\n",
              "<table border=\"1\" class=\"dataframe\">\n",
              "  <thead>\n",
              "    <tr style=\"text-align: right;\">\n",
              "      <th></th>\n",
              "      <th>Country</th>\n",
              "      <th>Capital</th>\n",
              "      <th>Population</th>\n",
              "    </tr>\n",
              "  </thead>\n",
              "  <tbody>\n",
              "    <tr>\n",
              "      <th>0</th>\n",
              "      <td>1.0</td>\n",
              "      <td>2.0</td>\n",
              "      <td>1.0</td>\n",
              "    </tr>\n",
              "    <tr>\n",
              "      <th>1</th>\n",
              "      <td>3.0</td>\n",
              "      <td>3.0</td>\n",
              "      <td>3.0</td>\n",
              "    </tr>\n",
              "    <tr>\n",
              "      <th>2</th>\n",
              "      <td>2.0</td>\n",
              "      <td>1.0</td>\n",
              "      <td>2.0</td>\n",
              "    </tr>\n",
              "  </tbody>\n",
              "</table>\n",
              "</div>"
            ],
            "text/plain": [
              "   Country  Capital  Population\n",
              "0      1.0      2.0         1.0\n",
              "1      3.0      3.0         3.0\n",
              "2      2.0      1.0         2.0"
            ]
          },
          "metadata": {
            "tags": []
          },
          "execution_count": 24
        }
      ]
    },
    {
      "cell_type": "markdown",
      "metadata": {
        "id": "76PArwJfuHIf",
        "colab_type": "text"
      },
      "source": [
        "## Retrieving Series/DataFrame Information\n",
        "\n",
        "### Basic Information"
      ]
    },
    {
      "cell_type": "code",
      "metadata": {
        "id": "RtQwq6Orxl5e",
        "colab_type": "code",
        "outputId": "3d01b142-8b68-4944-c6d0-621b34c87d6d",
        "colab": {
          "base_uri": "https://localhost:8080/",
          "height": 34
        }
      },
      "source": [
        "# (rows,columns)\n",
        "df.shape"
      ],
      "execution_count": 25,
      "outputs": [
        {
          "output_type": "execute_result",
          "data": {
            "text/plain": [
              "(3, 3)"
            ]
          },
          "metadata": {
            "tags": []
          },
          "execution_count": 25
        }
      ]
    },
    {
      "cell_type": "code",
      "metadata": {
        "id": "JedveJEOxoBF",
        "colab_type": "code",
        "outputId": "a2618ab0-4b20-4675-8969-b05dd40a4de6",
        "colab": {
          "base_uri": "https://localhost:8080/",
          "height": 34
        }
      },
      "source": [
        "# Describe index\n",
        "df.index"
      ],
      "execution_count": 26,
      "outputs": [
        {
          "output_type": "execute_result",
          "data": {
            "text/plain": [
              "RangeIndex(start=0, stop=3, step=1)"
            ]
          },
          "metadata": {
            "tags": []
          },
          "execution_count": 26
        }
      ]
    },
    {
      "cell_type": "code",
      "metadata": {
        "id": "QiGF9fCmxryU",
        "colab_type": "code",
        "outputId": "941c6ad4-f302-41db-dae1-f8edc9b0f5fd",
        "colab": {
          "base_uri": "https://localhost:8080/",
          "height": 34
        }
      },
      "source": [
        "# Describe DataFrame columns\n",
        "df.columns"
      ],
      "execution_count": 27,
      "outputs": [
        {
          "output_type": "execute_result",
          "data": {
            "text/plain": [
              "Index(['Country', 'Capital', 'Population'], dtype='object')"
            ]
          },
          "metadata": {
            "tags": []
          },
          "execution_count": 27
        }
      ]
    },
    {
      "cell_type": "code",
      "metadata": {
        "id": "9C5UIWIexvwV",
        "colab_type": "code",
        "outputId": "ef7e098f-01a3-4792-e351-ce08e8986cf5",
        "colab": {
          "base_uri": "https://localhost:8080/",
          "height": 153
        }
      },
      "source": [
        "# Info on the DataFrame\n",
        "df.info()"
      ],
      "execution_count": 28,
      "outputs": [
        {
          "output_type": "stream",
          "text": [
            "<class 'pandas.core.frame.DataFrame'>\n",
            "RangeIndex: 3 entries, 0 to 2\n",
            "Data columns (total 3 columns):\n",
            "Country       3 non-null object\n",
            "Capital       3 non-null object\n",
            "Population    3 non-null int64\n",
            "dtypes: int64(1), object(2)\n",
            "memory usage: 200.0+ bytes\n"
          ],
          "name": "stdout"
        }
      ]
    },
    {
      "cell_type": "code",
      "metadata": {
        "id": "b8CkZ2-Hx5Cl",
        "colab_type": "code",
        "outputId": "a0f22534-2d72-42e1-d6fe-41155f41c417",
        "colab": {
          "base_uri": "https://localhost:8080/",
          "height": 85
        }
      },
      "source": [
        "# Number of non-NA values\n",
        "df.count()"
      ],
      "execution_count": 29,
      "outputs": [
        {
          "output_type": "execute_result",
          "data": {
            "text/plain": [
              "Country       3\n",
              "Capital       3\n",
              "Population    3\n",
              "dtype: int64"
            ]
          },
          "metadata": {
            "tags": []
          },
          "execution_count": 29
        }
      ]
    },
    {
      "cell_type": "markdown",
      "metadata": {
        "id": "Lg-R7MJCuayg",
        "colab_type": "text"
      },
      "source": [
        "### Summary"
      ]
    },
    {
      "cell_type": "code",
      "metadata": {
        "id": "wWQMwyn5ygUG",
        "colab_type": "code",
        "outputId": "d08bcaa3-3ecb-4a82-b300-83ad354f99b9",
        "colab": {
          "base_uri": "https://localhost:8080/",
          "height": 0
        }
      },
      "source": [
        "# Sum of values\n",
        "df.sum()"
      ],
      "execution_count": 30,
      "outputs": [
        {
          "output_type": "execute_result",
          "data": {
            "text/plain": [
              "Country              BelgiumIndiaBrazil\n",
              "Capital       BrusselsNew DelhiBrasília\n",
              "Population                   1522209409\n",
              "dtype: object"
            ]
          },
          "metadata": {
            "tags": []
          },
          "execution_count": 30
        }
      ]
    },
    {
      "cell_type": "code",
      "metadata": {
        "id": "MUf3i1xsyo7O",
        "colab_type": "code",
        "outputId": "3b3339c8-3c19-43a6-b516-02ada42e456c",
        "colab": {
          "base_uri": "https://localhost:8080/",
          "height": 0
        }
      },
      "source": [
        "# Cummulative sum of values\n",
        "df.cumsum()"
      ],
      "execution_count": 31,
      "outputs": [
        {
          "output_type": "execute_result",
          "data": {
            "text/html": [
              "<div>\n",
              "<style scoped>\n",
              "    .dataframe tbody tr th:only-of-type {\n",
              "        vertical-align: middle;\n",
              "    }\n",
              "\n",
              "    .dataframe tbody tr th {\n",
              "        vertical-align: top;\n",
              "    }\n",
              "\n",
              "    .dataframe thead th {\n",
              "        text-align: right;\n",
              "    }\n",
              "</style>\n",
              "<table border=\"1\" class=\"dataframe\">\n",
              "  <thead>\n",
              "    <tr style=\"text-align: right;\">\n",
              "      <th></th>\n",
              "      <th>Country</th>\n",
              "      <th>Capital</th>\n",
              "      <th>Population</th>\n",
              "    </tr>\n",
              "  </thead>\n",
              "  <tbody>\n",
              "    <tr>\n",
              "      <th>0</th>\n",
              "      <td>Belgium</td>\n",
              "      <td>Brussels</td>\n",
              "      <td>11190846</td>\n",
              "    </tr>\n",
              "    <tr>\n",
              "      <th>1</th>\n",
              "      <td>BelgiumIndia</td>\n",
              "      <td>BrusselsNew Delhi</td>\n",
              "      <td>1314361881</td>\n",
              "    </tr>\n",
              "    <tr>\n",
              "      <th>2</th>\n",
              "      <td>BelgiumIndiaBrazil</td>\n",
              "      <td>BrusselsNew DelhiBrasília</td>\n",
              "      <td>1522209409</td>\n",
              "    </tr>\n",
              "  </tbody>\n",
              "</table>\n",
              "</div>"
            ],
            "text/plain": [
              "              Country                    Capital  Population\n",
              "0             Belgium                   Brussels    11190846\n",
              "1        BelgiumIndia          BrusselsNew Delhi  1314361881\n",
              "2  BelgiumIndiaBrazil  BrusselsNew DelhiBrasília  1522209409"
            ]
          },
          "metadata": {
            "tags": []
          },
          "execution_count": 31
        }
      ]
    },
    {
      "cell_type": "code",
      "metadata": {
        "id": "A48qN-suyqX9",
        "colab_type": "code",
        "outputId": "d702bdee-a17b-4464-fc8c-0d1c9d2ab3a7",
        "colab": {
          "base_uri": "https://localhost:8080/",
          "height": 0
        }
      },
      "source": [
        "# Minimum values\n",
        "df.min()"
      ],
      "execution_count": 32,
      "outputs": [
        {
          "output_type": "execute_result",
          "data": {
            "text/plain": [
              "Country        Belgium\n",
              "Capital       Brasília\n",
              "Population    11190846\n",
              "dtype: object"
            ]
          },
          "metadata": {
            "tags": []
          },
          "execution_count": 32
        }
      ]
    },
    {
      "cell_type": "code",
      "metadata": {
        "id": "zbaeJdCBzXpF",
        "colab_type": "code",
        "outputId": "70f94e15-8e34-46df-e254-5c31bbc4a3ea",
        "colab": {
          "base_uri": "https://localhost:8080/",
          "height": 0
        }
      },
      "source": [
        "# Maximum values\n",
        "df.max()"
      ],
      "execution_count": 33,
      "outputs": [
        {
          "output_type": "execute_result",
          "data": {
            "text/plain": [
              "Country            India\n",
              "Capital        New Delhi\n",
              "Population    1303171035\n",
              "dtype: object"
            ]
          },
          "metadata": {
            "tags": []
          },
          "execution_count": 33
        }
      ]
    },
    {
      "cell_type": "code",
      "metadata": {
        "id": "qpPaAxHbyr3F",
        "colab_type": "code",
        "colab": {}
      },
      "source": [
        "# Minimum index value\n",
        "#df.idxmin()"
      ],
      "execution_count": 0,
      "outputs": []
    },
    {
      "cell_type": "code",
      "metadata": {
        "id": "LmnUF6LG3PzM",
        "colab_type": "code",
        "colab": {}
      },
      "source": [
        "# Maximum index value\n",
        "#df.idxmax()"
      ],
      "execution_count": 0,
      "outputs": []
    },
    {
      "cell_type": "code",
      "metadata": {
        "id": "rNmC4NClys_V",
        "colab_type": "code",
        "outputId": "251f6590-579f-498a-8838-3a9f5c6737f6",
        "colab": {
          "base_uri": "https://localhost:8080/",
          "height": 0
        }
      },
      "source": [
        "# Summary statistics\n",
        "df.describe()"
      ],
      "execution_count": 36,
      "outputs": [
        {
          "output_type": "execute_result",
          "data": {
            "text/html": [
              "<div>\n",
              "<style scoped>\n",
              "    .dataframe tbody tr th:only-of-type {\n",
              "        vertical-align: middle;\n",
              "    }\n",
              "\n",
              "    .dataframe tbody tr th {\n",
              "        vertical-align: top;\n",
              "    }\n",
              "\n",
              "    .dataframe thead th {\n",
              "        text-align: right;\n",
              "    }\n",
              "</style>\n",
              "<table border=\"1\" class=\"dataframe\">\n",
              "  <thead>\n",
              "    <tr style=\"text-align: right;\">\n",
              "      <th></th>\n",
              "      <th>Population</th>\n",
              "    </tr>\n",
              "  </thead>\n",
              "  <tbody>\n",
              "    <tr>\n",
              "      <th>count</th>\n",
              "      <td>3.000000e+00</td>\n",
              "    </tr>\n",
              "    <tr>\n",
              "      <th>mean</th>\n",
              "      <td>5.074031e+08</td>\n",
              "    </tr>\n",
              "    <tr>\n",
              "      <th>std</th>\n",
              "      <td>6.961346e+08</td>\n",
              "    </tr>\n",
              "    <tr>\n",
              "      <th>min</th>\n",
              "      <td>1.119085e+07</td>\n",
              "    </tr>\n",
              "    <tr>\n",
              "      <th>25%</th>\n",
              "      <td>1.095192e+08</td>\n",
              "    </tr>\n",
              "    <tr>\n",
              "      <th>50%</th>\n",
              "      <td>2.078475e+08</td>\n",
              "    </tr>\n",
              "    <tr>\n",
              "      <th>75%</th>\n",
              "      <td>7.555093e+08</td>\n",
              "    </tr>\n",
              "    <tr>\n",
              "      <th>max</th>\n",
              "      <td>1.303171e+09</td>\n",
              "    </tr>\n",
              "  </tbody>\n",
              "</table>\n",
              "</div>"
            ],
            "text/plain": [
              "         Population\n",
              "count  3.000000e+00\n",
              "mean   5.074031e+08\n",
              "std    6.961346e+08\n",
              "min    1.119085e+07\n",
              "25%    1.095192e+08\n",
              "50%    2.078475e+08\n",
              "75%    7.555093e+08\n",
              "max    1.303171e+09"
            ]
          },
          "metadata": {
            "tags": []
          },
          "execution_count": 36
        }
      ]
    },
    {
      "cell_type": "code",
      "metadata": {
        "id": "lYWspl84yt6F",
        "colab_type": "code",
        "outputId": "0209a725-e854-4ff7-e636-c0c6ca36b17d",
        "colab": {
          "base_uri": "https://localhost:8080/",
          "height": 0
        }
      },
      "source": [
        "# Mean of values\n",
        "df.mean()"
      ],
      "execution_count": 37,
      "outputs": [
        {
          "output_type": "execute_result",
          "data": {
            "text/plain": [
              "Population    5.074031e+08\n",
              "dtype: float64"
            ]
          },
          "metadata": {
            "tags": []
          },
          "execution_count": 37
        }
      ]
    },
    {
      "cell_type": "code",
      "metadata": {
        "id": "BPYJqap4yuzf",
        "colab_type": "code",
        "outputId": "0c00191f-98f0-4ca0-d088-97af6fee7031",
        "colab": {
          "base_uri": "https://localhost:8080/",
          "height": 0
        }
      },
      "source": [
        "# Median of values\n",
        "df.median()"
      ],
      "execution_count": 38,
      "outputs": [
        {
          "output_type": "execute_result",
          "data": {
            "text/plain": [
              "Population    207847528.0\n",
              "dtype: float64"
            ]
          },
          "metadata": {
            "tags": []
          },
          "execution_count": 38
        }
      ]
    },
    {
      "cell_type": "markdown",
      "metadata": {
        "id": "yC1ZCMcmuIu0",
        "colab_type": "text"
      },
      "source": [
        "## Applying Functions"
      ]
    },
    {
      "cell_type": "code",
      "metadata": {
        "id": "m72g23Kl3x1U",
        "colab_type": "code",
        "colab": {}
      },
      "source": [
        "f = lambda x: x*2"
      ],
      "execution_count": 0,
      "outputs": []
    },
    {
      "cell_type": "code",
      "metadata": {
        "id": "w_-fH68W34XN",
        "colab_type": "code",
        "outputId": "2e1510a7-0926-4b6e-8d7b-57cb51630485",
        "colab": {
          "base_uri": "https://localhost:8080/",
          "height": 142
        }
      },
      "source": [
        "# Apply function\n",
        "df.apply(f)"
      ],
      "execution_count": 40,
      "outputs": [
        {
          "output_type": "execute_result",
          "data": {
            "text/html": [
              "<div>\n",
              "<style scoped>\n",
              "    .dataframe tbody tr th:only-of-type {\n",
              "        vertical-align: middle;\n",
              "    }\n",
              "\n",
              "    .dataframe tbody tr th {\n",
              "        vertical-align: top;\n",
              "    }\n",
              "\n",
              "    .dataframe thead th {\n",
              "        text-align: right;\n",
              "    }\n",
              "</style>\n",
              "<table border=\"1\" class=\"dataframe\">\n",
              "  <thead>\n",
              "    <tr style=\"text-align: right;\">\n",
              "      <th></th>\n",
              "      <th>Country</th>\n",
              "      <th>Capital</th>\n",
              "      <th>Population</th>\n",
              "    </tr>\n",
              "  </thead>\n",
              "  <tbody>\n",
              "    <tr>\n",
              "      <th>0</th>\n",
              "      <td>BelgiumBelgium</td>\n",
              "      <td>BrusselsBrussels</td>\n",
              "      <td>22381692</td>\n",
              "    </tr>\n",
              "    <tr>\n",
              "      <th>1</th>\n",
              "      <td>IndiaIndia</td>\n",
              "      <td>New DelhiNew Delhi</td>\n",
              "      <td>2606342070</td>\n",
              "    </tr>\n",
              "    <tr>\n",
              "      <th>2</th>\n",
              "      <td>BrazilBrazil</td>\n",
              "      <td>BrasíliaBrasília</td>\n",
              "      <td>415695056</td>\n",
              "    </tr>\n",
              "  </tbody>\n",
              "</table>\n",
              "</div>"
            ],
            "text/plain": [
              "          Country             Capital  Population\n",
              "0  BelgiumBelgium    BrusselsBrussels    22381692\n",
              "1      IndiaIndia  New DelhiNew Delhi  2606342070\n",
              "2    BrazilBrazil    BrasíliaBrasília   415695056"
            ]
          },
          "metadata": {
            "tags": []
          },
          "execution_count": 40
        }
      ]
    },
    {
      "cell_type": "code",
      "metadata": {
        "id": "KoeI1Z484Eod",
        "colab_type": "code",
        "outputId": "b310fa83-b66c-46e6-d19a-dbca94d6e3fa",
        "colab": {
          "base_uri": "https://localhost:8080/",
          "height": 142
        }
      },
      "source": [
        "# Apply function element-wise\n",
        "df.applymap(f)"
      ],
      "execution_count": 41,
      "outputs": [
        {
          "output_type": "execute_result",
          "data": {
            "text/html": [
              "<div>\n",
              "<style scoped>\n",
              "    .dataframe tbody tr th:only-of-type {\n",
              "        vertical-align: middle;\n",
              "    }\n",
              "\n",
              "    .dataframe tbody tr th {\n",
              "        vertical-align: top;\n",
              "    }\n",
              "\n",
              "    .dataframe thead th {\n",
              "        text-align: right;\n",
              "    }\n",
              "</style>\n",
              "<table border=\"1\" class=\"dataframe\">\n",
              "  <thead>\n",
              "    <tr style=\"text-align: right;\">\n",
              "      <th></th>\n",
              "      <th>Country</th>\n",
              "      <th>Capital</th>\n",
              "      <th>Population</th>\n",
              "    </tr>\n",
              "  </thead>\n",
              "  <tbody>\n",
              "    <tr>\n",
              "      <th>0</th>\n",
              "      <td>BelgiumBelgium</td>\n",
              "      <td>BrusselsBrussels</td>\n",
              "      <td>22381692</td>\n",
              "    </tr>\n",
              "    <tr>\n",
              "      <th>1</th>\n",
              "      <td>IndiaIndia</td>\n",
              "      <td>New DelhiNew Delhi</td>\n",
              "      <td>2606342070</td>\n",
              "    </tr>\n",
              "    <tr>\n",
              "      <th>2</th>\n",
              "      <td>BrazilBrazil</td>\n",
              "      <td>BrasíliaBrasília</td>\n",
              "      <td>415695056</td>\n",
              "    </tr>\n",
              "  </tbody>\n",
              "</table>\n",
              "</div>"
            ],
            "text/plain": [
              "          Country             Capital  Population\n",
              "0  BelgiumBelgium    BrusselsBrussels    22381692\n",
              "1      IndiaIndia  New DelhiNew Delhi  2606342070\n",
              "2    BrazilBrazil    BrasíliaBrasília   415695056"
            ]
          },
          "metadata": {
            "tags": []
          },
          "execution_count": 41
        }
      ]
    },
    {
      "cell_type": "markdown",
      "metadata": {
        "id": "IhbLf6euuNVO",
        "colab_type": "text"
      },
      "source": [
        "## Data Alignment\n",
        "\n",
        "### Internal Data Alignment\n",
        "NA values are introduced in the indices that don’t overlap:"
      ]
    },
    {
      "cell_type": "code",
      "metadata": {
        "id": "5elGXMVjvKd2",
        "colab_type": "code",
        "outputId": "354f56d8-1d34-4395-f561-007b72496488",
        "colab": {
          "base_uri": "https://localhost:8080/",
          "height": 102
        }
      },
      "source": [
        "s3 = pd.Series([7,-2,3], index=['a','c','d'])\n",
        "s+s3"
      ],
      "execution_count": 42,
      "outputs": [
        {
          "output_type": "execute_result",
          "data": {
            "text/plain": [
              "a    13.0\n",
              "b     NaN\n",
              "c     5.0\n",
              "d     7.0\n",
              "dtype: float64"
            ]
          },
          "metadata": {
            "tags": []
          },
          "execution_count": 42
        }
      ]
    },
    {
      "cell_type": "markdown",
      "metadata": {
        "id": "hQuyM6m9unpX",
        "colab_type": "text"
      },
      "source": [
        "### Arithmetic Operations with Fill Methods\n",
        "You can also do the internal data alignment yourself with the help of the fill methods:"
      ]
    },
    {
      "cell_type": "code",
      "metadata": {
        "id": "3LceRC8MvKFu",
        "colab_type": "code",
        "outputId": "e2a9e842-e6bc-4fb7-df03-2916cc07466a",
        "colab": {
          "base_uri": "https://localhost:8080/",
          "height": 0
        }
      },
      "source": [
        "s.add(s3, fill_value=0)"
      ],
      "execution_count": 43,
      "outputs": [
        {
          "output_type": "execute_result",
          "data": {
            "text/plain": [
              "a    13.0\n",
              "b    -5.0\n",
              "c     5.0\n",
              "d     7.0\n",
              "dtype: float64"
            ]
          },
          "metadata": {
            "tags": []
          },
          "execution_count": 43
        }
      ]
    },
    {
      "cell_type": "code",
      "metadata": {
        "id": "4bbbaF496ANK",
        "colab_type": "code",
        "outputId": "80654b0a-c283-4f0f-e1d4-76e25b71b4a3",
        "colab": {
          "base_uri": "https://localhost:8080/",
          "height": 0
        }
      },
      "source": [
        "s.sub(s3, fill_value=2)"
      ],
      "execution_count": 44,
      "outputs": [
        {
          "output_type": "execute_result",
          "data": {
            "text/plain": [
              "a   -1.0\n",
              "b   -7.0\n",
              "c    9.0\n",
              "d    1.0\n",
              "dtype: float64"
            ]
          },
          "metadata": {
            "tags": []
          },
          "execution_count": 44
        }
      ]
    },
    {
      "cell_type": "code",
      "metadata": {
        "id": "WLav4cnG6M-g",
        "colab_type": "code",
        "outputId": "c9acff2e-58cb-4ba8-c466-d0148709fa63",
        "colab": {
          "base_uri": "https://localhost:8080/",
          "height": 0
        }
      },
      "source": [
        "s.div(s3, fill_value=4)"
      ],
      "execution_count": 45,
      "outputs": [
        {
          "output_type": "execute_result",
          "data": {
            "text/plain": [
              "a    0.857143\n",
              "b   -1.250000\n",
              "c   -3.500000\n",
              "d    1.333333\n",
              "dtype: float64"
            ]
          },
          "metadata": {
            "tags": []
          },
          "execution_count": 45
        }
      ]
    },
    {
      "cell_type": "code",
      "metadata": {
        "id": "mv-Cn91S6Vdp",
        "colab_type": "code",
        "outputId": "44069130-78a2-4736-c8cd-75e6b9d0f8eb",
        "colab": {
          "base_uri": "https://localhost:8080/",
          "height": 0
        }
      },
      "source": [
        "s.mul(s3, fill_value=3)"
      ],
      "execution_count": 46,
      "outputs": [
        {
          "output_type": "execute_result",
          "data": {
            "text/plain": [
              "a    42.0\n",
              "b   -15.0\n",
              "c   -14.0\n",
              "d    12.0\n",
              "dtype: float64"
            ]
          },
          "metadata": {
            "tags": []
          },
          "execution_count": 46
        }
      ]
    },
    {
      "cell_type": "markdown",
      "metadata": {
        "id": "ubkZNjqwuS3v",
        "colab_type": "text"
      },
      "source": [
        "## I/O\n",
        "\n",
        "### Read and Write to CSV"
      ]
    },
    {
      "cell_type": "code",
      "metadata": {
        "id": "gt4wn27AvFen",
        "colab_type": "code",
        "colab": {}
      },
      "source": [
        "#pd.read_csv('file.csv', header=None, nrows=5)"
      ],
      "execution_count": 0,
      "outputs": []
    },
    {
      "cell_type": "code",
      "metadata": {
        "id": "OVxB_EQt6vGx",
        "colab_type": "code",
        "colab": {}
      },
      "source": [
        "df.to_csv('my_DataFrame.csv')"
      ],
      "execution_count": 0,
      "outputs": []
    },
    {
      "cell_type": "markdown",
      "metadata": {
        "id": "XnVXiTUJu4bm",
        "colab_type": "text"
      },
      "source": [
        "### Read and Write to Excel"
      ]
    },
    {
      "cell_type": "code",
      "metadata": {
        "id": "rd77MNY0vGA-",
        "colab_type": "code",
        "colab": {}
      },
      "source": [
        "#pd.read_excel('file.xlsx')"
      ],
      "execution_count": 0,
      "outputs": []
    },
    {
      "cell_type": "code",
      "metadata": {
        "id": "kSZcmDAL7jS4",
        "colab_type": "code",
        "colab": {}
      },
      "source": [
        "#df.to_excel('dir/my_DataFrame.xlsx', sheet_name='Sheet1')\n",
        "df.to_excel('my_DataFrame.xlsx', sheet_name='Sheet1')"
      ],
      "execution_count": 0,
      "outputs": []
    },
    {
      "cell_type": "code",
      "metadata": {
        "id": "TCspgZNv_MD0",
        "colab_type": "code",
        "colab": {}
      },
      "source": [
        "# Read multiple sheets from the same file\n",
        "#xlsx = pd.ExcelFile('file.xlsx')\n",
        "#df = pd.read_excel(xlsx,'Sheet1')"
      ],
      "execution_count": 0,
      "outputs": []
    },
    {
      "cell_type": "markdown",
      "metadata": {
        "id": "uUaL5N9ou9VY",
        "colab_type": "text"
      },
      "source": [
        "### Read and Write to SQL Query or Database Table"
      ]
    },
    {
      "cell_type": "code",
      "metadata": {
        "id": "COc0GHF5vGrO",
        "colab_type": "code",
        "colab": {}
      },
      "source": [
        "from sqlalchemy import create_engine\n",
        "engine = create_engine('sqlite:///:memory:')"
      ],
      "execution_count": 0,
      "outputs": []
    },
    {
      "cell_type": "code",
      "metadata": {
        "id": "Xdu-Jb5l_ysg",
        "colab_type": "code",
        "outputId": "6ec4276d-344a-4db2-96cb-a8faeb5862f7",
        "colab": {
          "base_uri": "https://localhost:8080/",
          "height": 0
        }
      },
      "source": [
        "'''\n",
        "pd.read_sql(\"SELECT * FROM my_table;\", engine)\n",
        "pd.read_sql_table('my_table', engine)\n",
        "pd.read_sql_query(\"SELECT * FROM my_table;\", engine)\n",
        "'''"
      ],
      "execution_count": 53,
      "outputs": [
        {
          "output_type": "execute_result",
          "data": {
            "text/plain": [
              "'\\npd.read_sql(\"SELECT * FROM my_table;\", engine)\\npd.read_sql_table(\\'my_table\\', engine)\\npd.read_sql_query(\"SELECT * FROM my_table;\", engine)\\n'"
            ]
          },
          "metadata": {
            "tags": []
          },
          "execution_count": 53
        }
      ]
    },
    {
      "cell_type": "markdown",
      "metadata": {
        "id": "zoWcxNQOvDwe",
        "colab_type": "text"
      },
      "source": [
        "read_sql()is a convenience wrapper around read_sql_table() and\n",
        "read_sql_query()"
      ]
    },
    {
      "cell_type": "code",
      "metadata": {
        "id": "jAwf_Yt_vHK2",
        "colab_type": "code",
        "colab": {}
      },
      "source": [
        "df.to_sql('myDf', engine)"
      ],
      "execution_count": 0,
      "outputs": []
    }
  ]
}